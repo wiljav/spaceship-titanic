{
 "cells": [
  {
   "cell_type": "markdown",
   "id": "41299dc8-191d-4f56-967a-8b81637d5b8e",
   "metadata": {},
   "source": [
    "# Project\n",
    "Space Titanic from Kaggle\n",
    "\n",
    "## Dataset\n",
    "The dataset used consists of the following columns\n",
    "\n",
    "| \\# | Filename | Description |\n",
    "| --- | --- | --- |\n",
    "| 1 | train.csv| Dataset used for the training of the model |\n",
    "| 2 | test.csv| Dataset used for testing the model |\n",
    "\n",
    "The difference between `train.csv` and `test.csv` data is that test data has different values and one less column, which in this case it is `Transported` column, that is the \"Target\" of our model i.e. the column that is being predicted."
   ]
  },
  {
   "cell_type": "code",
   "execution_count": 43,
   "id": "a5112f1f-d51a-41da-abc4-f20b42e7c03a",
   "metadata": {},
   "outputs": [],
   "source": [
    "# Importing necessary python libraries\n",
    "import os\n",
    "import pandas as pd\n",
    "import numpy as np\n",
    "import matplotlib.pyplot as plt\n",
    "import seaborn as sns\n",
    "import warnings\n",
    "\n",
    "# Imporint data processing and machine learning libraries :\n",
    "from sklearn.ensemble import RandomForestClassifier\n",
    "from sklearn.metrics import mean_squared_error\n",
    "from sklearn.metrics import r2_score\n",
    "from sklearn.model_selection import train_test_split\n",
    "from sklearn.decomposition import PCA\n",
    "from sklearn.preprocessing import StandardScaler"
   ]
  },
  {
   "cell_type": "code",
   "execution_count": 2,
   "id": "a8bcb8a5",
   "metadata": {
    "papermill": {
     "duration": 1.525105,
     "end_time": "2022-04-06T11:13:18.711582",
     "exception": false,
     "start_time": "2022-04-06T11:13:17.186477",
     "status": "completed"
    },
    "tags": []
   },
   "outputs": [],
   "source": [
    "# Avoiding the warning messages shown in jupyter notebook for better visibility:\n",
    "warnings.filterwarnings(\"ignore\")\n",
    "\n",
    "\n",
    "# Formating the background of the diagrams and visuals in jupyter notebook:\n",
    "plt.style.use('ggplot')\n",
    "sns.set_style('whitegrid')"
   ]
  },
  {
   "cell_type": "code",
   "execution_count": 3,
   "id": "9e8a086c",
   "metadata": {
    "papermill": {
     "duration": 0.043663,
     "end_time": "2022-04-06T11:13:18.792130",
     "exception": false,
     "start_time": "2022-04-06T11:13:18.748467",
     "status": "completed"
    },
    "tags": []
   },
   "outputs": [
    {
     "name": "stdout",
     "output_type": "stream",
     "text": [
      "./titanic/test.csv\n",
      "./titanic/train.csv\n"
     ]
    }
   ],
   "source": [
    "# Checking the datasets files exist or not, and their names:\n",
    "for dirname, _, filenames in os.walk('./'):\n",
    "    for filename in filenames:\n",
    "        if not filename.endswith('ipynb'):\n",
    "            print(os.path.join(dirname, filename))"
   ]
  },
  {
   "cell_type": "code",
   "execution_count": 4,
   "id": "55ceea35",
   "metadata": {
    "papermill": {
     "duration": 0.121157,
     "end_time": "2022-04-06T11:13:18.948616",
     "exception": false,
     "start_time": "2022-04-06T11:13:18.827459",
     "status": "completed"
    },
    "tags": []
   },
   "outputs": [],
   "source": [
    "# importing the datasets we have:\n",
    "train_file = './train.csv'\n",
    "test_file = './test.csv'\n",
    "\n",
    "train_data = pd.read_csv(train_file)\n",
    "test_data = pd.read_csv(test_file)"
   ]
  },
  {
   "cell_type": "code",
   "execution_count": 5,
   "id": "ff3133b1",
   "metadata": {
    "papermill": {
     "duration": 0.060037,
     "end_time": "2022-04-06T11:13:19.044872",
     "exception": false,
     "start_time": "2022-04-06T11:13:18.984835",
     "status": "completed"
    },
    "tags": []
   },
   "outputs": [
    {
     "name": "stdout",
     "output_type": "stream",
     "text": [
      "Nulls in training dataset:\n",
      "--------\n",
      "PassengerId       0\n",
      "HomePlanet      201\n",
      "CryoSleep       217\n",
      "Cabin           199\n",
      "Destination     182\n",
      "Age             179\n",
      "VIP             203\n",
      "RoomService     181\n",
      "FoodCourt       183\n",
      "ShoppingMall    208\n",
      "Spa             183\n",
      "VRDeck          188\n",
      "Name            200\n",
      "Transported       0\n",
      "dtype: int64\n",
      "\n",
      "\n",
      "Nulls in testing dataset:\n",
      "--------\n",
      "PassengerId       0\n",
      "HomePlanet       87\n",
      "CryoSleep        93\n",
      "Cabin           100\n",
      "Destination      92\n",
      "Age              91\n",
      "VIP              93\n",
      "RoomService      82\n",
      "FoodCourt       106\n",
      "ShoppingMall     98\n",
      "Spa             101\n",
      "VRDeck           80\n",
      "Name             94\n",
      "dtype: int64\n"
     ]
    }
   ],
   "source": [
    "# Checking null values in the training data:\n",
    "print(f'Nulls in training dataset:\\n--------\\n{train_data.isnull().sum()}\\n\\n')\n",
    "print(f'Nulls in testing dataset:\\n--------\\n{test_data.isnull().sum()}')"
   ]
  },
  {
   "cell_type": "code",
   "execution_count": 6,
   "id": "16538362",
   "metadata": {
    "papermill": {
     "duration": 0.063843,
     "end_time": "2022-04-06T11:13:19.232426",
     "exception": false,
     "start_time": "2022-04-06T11:13:19.168583",
     "status": "completed"
    },
    "tags": []
   },
   "outputs": [
    {
     "data": {
      "text/html": [
       "<div>\n",
       "<style scoped>\n",
       "    .dataframe tbody tr th:only-of-type {\n",
       "        vertical-align: middle;\n",
       "    }\n",
       "\n",
       "    .dataframe tbody tr th {\n",
       "        vertical-align: top;\n",
       "    }\n",
       "\n",
       "    .dataframe thead th {\n",
       "        text-align: right;\n",
       "    }\n",
       "</style>\n",
       "<table border=\"1\" class=\"dataframe\">\n",
       "  <thead>\n",
       "    <tr style=\"text-align: right;\">\n",
       "      <th></th>\n",
       "      <th>PassengerId</th>\n",
       "      <th>HomePlanet</th>\n",
       "      <th>CryoSleep</th>\n",
       "      <th>Cabin</th>\n",
       "      <th>Destination</th>\n",
       "      <th>Age</th>\n",
       "      <th>VIP</th>\n",
       "      <th>RoomService</th>\n",
       "      <th>FoodCourt</th>\n",
       "      <th>ShoppingMall</th>\n",
       "      <th>Spa</th>\n",
       "      <th>VRDeck</th>\n",
       "      <th>Name</th>\n",
       "      <th>Transported</th>\n",
       "    </tr>\n",
       "  </thead>\n",
       "  <tbody>\n",
       "    <tr>\n",
       "      <th>0</th>\n",
       "      <td>0001_01</td>\n",
       "      <td>Europa</td>\n",
       "      <td>False</td>\n",
       "      <td>B/0/P</td>\n",
       "      <td>TRAPPIST-1e</td>\n",
       "      <td>39.0</td>\n",
       "      <td>False</td>\n",
       "      <td>0.0</td>\n",
       "      <td>0.0</td>\n",
       "      <td>0.0</td>\n",
       "      <td>0.0</td>\n",
       "      <td>0.0</td>\n",
       "      <td>Maham Ofracculy</td>\n",
       "      <td>False</td>\n",
       "    </tr>\n",
       "    <tr>\n",
       "      <th>1</th>\n",
       "      <td>0002_01</td>\n",
       "      <td>Earth</td>\n",
       "      <td>False</td>\n",
       "      <td>F/0/S</td>\n",
       "      <td>TRAPPIST-1e</td>\n",
       "      <td>24.0</td>\n",
       "      <td>False</td>\n",
       "      <td>109.0</td>\n",
       "      <td>9.0</td>\n",
       "      <td>25.0</td>\n",
       "      <td>549.0</td>\n",
       "      <td>44.0</td>\n",
       "      <td>Juanna Vines</td>\n",
       "      <td>True</td>\n",
       "    </tr>\n",
       "    <tr>\n",
       "      <th>2</th>\n",
       "      <td>0003_01</td>\n",
       "      <td>Europa</td>\n",
       "      <td>False</td>\n",
       "      <td>A/0/S</td>\n",
       "      <td>TRAPPIST-1e</td>\n",
       "      <td>58.0</td>\n",
       "      <td>True</td>\n",
       "      <td>43.0</td>\n",
       "      <td>3576.0</td>\n",
       "      <td>0.0</td>\n",
       "      <td>6715.0</td>\n",
       "      <td>49.0</td>\n",
       "      <td>Altark Susent</td>\n",
       "      <td>False</td>\n",
       "    </tr>\n",
       "    <tr>\n",
       "      <th>3</th>\n",
       "      <td>0003_02</td>\n",
       "      <td>Europa</td>\n",
       "      <td>False</td>\n",
       "      <td>A/0/S</td>\n",
       "      <td>TRAPPIST-1e</td>\n",
       "      <td>33.0</td>\n",
       "      <td>False</td>\n",
       "      <td>0.0</td>\n",
       "      <td>1283.0</td>\n",
       "      <td>371.0</td>\n",
       "      <td>3329.0</td>\n",
       "      <td>193.0</td>\n",
       "      <td>Solam Susent</td>\n",
       "      <td>False</td>\n",
       "    </tr>\n",
       "    <tr>\n",
       "      <th>4</th>\n",
       "      <td>0004_01</td>\n",
       "      <td>Earth</td>\n",
       "      <td>False</td>\n",
       "      <td>F/1/S</td>\n",
       "      <td>TRAPPIST-1e</td>\n",
       "      <td>16.0</td>\n",
       "      <td>False</td>\n",
       "      <td>303.0</td>\n",
       "      <td>70.0</td>\n",
       "      <td>151.0</td>\n",
       "      <td>565.0</td>\n",
       "      <td>2.0</td>\n",
       "      <td>Willy Santantines</td>\n",
       "      <td>True</td>\n",
       "    </tr>\n",
       "  </tbody>\n",
       "</table>\n",
       "</div>"
      ],
      "text/plain": [
       "  PassengerId HomePlanet CryoSleep  Cabin  Destination   Age    VIP  \\\n",
       "0     0001_01     Europa     False  B/0/P  TRAPPIST-1e  39.0  False   \n",
       "1     0002_01      Earth     False  F/0/S  TRAPPIST-1e  24.0  False   \n",
       "2     0003_01     Europa     False  A/0/S  TRAPPIST-1e  58.0   True   \n",
       "3     0003_02     Europa     False  A/0/S  TRAPPIST-1e  33.0  False   \n",
       "4     0004_01      Earth     False  F/1/S  TRAPPIST-1e  16.0  False   \n",
       "\n",
       "   RoomService  FoodCourt  ShoppingMall     Spa  VRDeck               Name  \\\n",
       "0          0.0        0.0           0.0     0.0     0.0    Maham Ofracculy   \n",
       "1        109.0        9.0          25.0   549.0    44.0       Juanna Vines   \n",
       "2         43.0     3576.0           0.0  6715.0    49.0      Altark Susent   \n",
       "3          0.0     1283.0         371.0  3329.0   193.0       Solam Susent   \n",
       "4        303.0       70.0         151.0   565.0     2.0  Willy Santantines   \n",
       "\n",
       "   Transported  \n",
       "0        False  \n",
       "1         True  \n",
       "2        False  \n",
       "3        False  \n",
       "4         True  "
      ]
     },
     "execution_count": 6,
     "metadata": {},
     "output_type": "execute_result"
    }
   ],
   "source": [
    "# Overview of the training dataset first 5 rows:\n",
    "train_data.head()"
   ]
  },
  {
   "cell_type": "code",
   "execution_count": 7,
   "id": "a284a44a",
   "metadata": {
    "papermill": {
     "duration": 0.059571,
     "end_time": "2022-04-06T11:13:19.329374",
     "exception": false,
     "start_time": "2022-04-06T11:13:19.269803",
     "status": "completed"
    },
    "tags": []
   },
   "outputs": [
    {
     "data": {
      "text/html": [
       "<div>\n",
       "<style scoped>\n",
       "    .dataframe tbody tr th:only-of-type {\n",
       "        vertical-align: middle;\n",
       "    }\n",
       "\n",
       "    .dataframe tbody tr th {\n",
       "        vertical-align: top;\n",
       "    }\n",
       "\n",
       "    .dataframe thead th {\n",
       "        text-align: right;\n",
       "    }\n",
       "</style>\n",
       "<table border=\"1\" class=\"dataframe\">\n",
       "  <thead>\n",
       "    <tr style=\"text-align: right;\">\n",
       "      <th></th>\n",
       "      <th>PassengerId</th>\n",
       "      <th>HomePlanet</th>\n",
       "      <th>CryoSleep</th>\n",
       "      <th>Cabin</th>\n",
       "      <th>Destination</th>\n",
       "      <th>Age</th>\n",
       "      <th>VIP</th>\n",
       "      <th>RoomService</th>\n",
       "      <th>FoodCourt</th>\n",
       "      <th>ShoppingMall</th>\n",
       "      <th>Spa</th>\n",
       "      <th>VRDeck</th>\n",
       "      <th>Name</th>\n",
       "    </tr>\n",
       "  </thead>\n",
       "  <tbody>\n",
       "    <tr>\n",
       "      <th>0</th>\n",
       "      <td>0013_01</td>\n",
       "      <td>Earth</td>\n",
       "      <td>True</td>\n",
       "      <td>G/3/S</td>\n",
       "      <td>TRAPPIST-1e</td>\n",
       "      <td>27.0</td>\n",
       "      <td>False</td>\n",
       "      <td>0.0</td>\n",
       "      <td>0.0</td>\n",
       "      <td>0.0</td>\n",
       "      <td>0.0</td>\n",
       "      <td>0.0</td>\n",
       "      <td>Nelly Carsoning</td>\n",
       "    </tr>\n",
       "    <tr>\n",
       "      <th>1</th>\n",
       "      <td>0018_01</td>\n",
       "      <td>Earth</td>\n",
       "      <td>False</td>\n",
       "      <td>F/4/S</td>\n",
       "      <td>TRAPPIST-1e</td>\n",
       "      <td>19.0</td>\n",
       "      <td>False</td>\n",
       "      <td>0.0</td>\n",
       "      <td>9.0</td>\n",
       "      <td>0.0</td>\n",
       "      <td>2823.0</td>\n",
       "      <td>0.0</td>\n",
       "      <td>Lerome Peckers</td>\n",
       "    </tr>\n",
       "    <tr>\n",
       "      <th>2</th>\n",
       "      <td>0019_01</td>\n",
       "      <td>Europa</td>\n",
       "      <td>True</td>\n",
       "      <td>C/0/S</td>\n",
       "      <td>55 Cancri e</td>\n",
       "      <td>31.0</td>\n",
       "      <td>False</td>\n",
       "      <td>0.0</td>\n",
       "      <td>0.0</td>\n",
       "      <td>0.0</td>\n",
       "      <td>0.0</td>\n",
       "      <td>0.0</td>\n",
       "      <td>Sabih Unhearfus</td>\n",
       "    </tr>\n",
       "    <tr>\n",
       "      <th>3</th>\n",
       "      <td>0021_01</td>\n",
       "      <td>Europa</td>\n",
       "      <td>False</td>\n",
       "      <td>C/1/S</td>\n",
       "      <td>TRAPPIST-1e</td>\n",
       "      <td>38.0</td>\n",
       "      <td>False</td>\n",
       "      <td>0.0</td>\n",
       "      <td>6652.0</td>\n",
       "      <td>0.0</td>\n",
       "      <td>181.0</td>\n",
       "      <td>585.0</td>\n",
       "      <td>Meratz Caltilter</td>\n",
       "    </tr>\n",
       "    <tr>\n",
       "      <th>4</th>\n",
       "      <td>0023_01</td>\n",
       "      <td>Earth</td>\n",
       "      <td>False</td>\n",
       "      <td>F/5/S</td>\n",
       "      <td>TRAPPIST-1e</td>\n",
       "      <td>20.0</td>\n",
       "      <td>False</td>\n",
       "      <td>10.0</td>\n",
       "      <td>0.0</td>\n",
       "      <td>635.0</td>\n",
       "      <td>0.0</td>\n",
       "      <td>0.0</td>\n",
       "      <td>Brence Harperez</td>\n",
       "    </tr>\n",
       "  </tbody>\n",
       "</table>\n",
       "</div>"
      ],
      "text/plain": [
       "  PassengerId HomePlanet CryoSleep  Cabin  Destination   Age    VIP  \\\n",
       "0     0013_01      Earth      True  G/3/S  TRAPPIST-1e  27.0  False   \n",
       "1     0018_01      Earth     False  F/4/S  TRAPPIST-1e  19.0  False   \n",
       "2     0019_01     Europa      True  C/0/S  55 Cancri e  31.0  False   \n",
       "3     0021_01     Europa     False  C/1/S  TRAPPIST-1e  38.0  False   \n",
       "4     0023_01      Earth     False  F/5/S  TRAPPIST-1e  20.0  False   \n",
       "\n",
       "   RoomService  FoodCourt  ShoppingMall     Spa  VRDeck              Name  \n",
       "0          0.0        0.0           0.0     0.0     0.0   Nelly Carsoning  \n",
       "1          0.0        9.0           0.0  2823.0     0.0    Lerome Peckers  \n",
       "2          0.0        0.0           0.0     0.0     0.0   Sabih Unhearfus  \n",
       "3          0.0     6652.0           0.0   181.0   585.0  Meratz Caltilter  \n",
       "4         10.0        0.0         635.0     0.0     0.0   Brence Harperez  "
      ]
     },
     "execution_count": 7,
     "metadata": {},
     "output_type": "execute_result"
    }
   ],
   "source": [
    "# Overview of the testing dataset first 5 rows:\n",
    "test_data.head()"
   ]
  },
  {
   "cell_type": "code",
   "execution_count": 8,
   "id": "474f0d41",
   "metadata": {
    "papermill": {
     "duration": 0.063469,
     "end_time": "2022-04-06T11:13:19.512341",
     "exception": false,
     "start_time": "2022-04-06T11:13:19.448872",
     "status": "completed"
    },
    "tags": []
   },
   "outputs": [
    {
     "name": "stdout",
     "output_type": "stream",
     "text": [
      "Number of NaN rows removed is:  2087\n"
     ]
    }
   ],
   "source": [
    "# Droping nulls from the training dataset and checking the number of nulls dropped\n",
    "train_shape = train_data.shape[0]\n",
    "train_data.dropna(inplace=True, axis=0)\n",
    "print('Number of NaN rows removed is: ', train_shape - train_data.shape[0])"
   ]
  },
  {
   "cell_type": "code",
   "execution_count": 9,
   "id": "8256e977",
   "metadata": {
    "papermill": {
     "duration": 0.054573,
     "end_time": "2022-04-06T11:13:19.605519",
     "exception": false,
     "start_time": "2022-04-06T11:13:19.550946",
     "status": "completed"
    },
    "tags": []
   },
   "outputs": [
    {
     "name": "stdout",
     "output_type": "stream",
     "text": [
      "Number of NaN rows removed is:  996\n"
     ]
    }
   ],
   "source": [
    "# Droping nulls from the testing dataset and checking the number of nulls dropped\n",
    "test_shape = test_data.shape[0]\n",
    "test_data.dropna(inplace=True, axis=0)\n",
    "print('Number of NaN rows removed is: ', test_shape - test_data.shape[0])"
   ]
  },
  {
   "cell_type": "code",
   "execution_count": 10,
   "id": "f3e5b7b0",
   "metadata": {
    "papermill": {
     "duration": 0.053419,
     "end_time": "2022-04-06T11:13:19.697047",
     "exception": false,
     "start_time": "2022-04-06T11:13:19.643628",
     "status": "completed"
    },
    "tags": []
   },
   "outputs": [
    {
     "data": {
      "text/plain": [
       "['PassengerId',\n",
       " 'HomePlanet',\n",
       " 'CryoSleep',\n",
       " 'Cabin',\n",
       " 'Destination',\n",
       " 'VIP',\n",
       " 'Name',\n",
       " 'Transported']"
      ]
     },
     "execution_count": 10,
     "metadata": {},
     "output_type": "execute_result"
    }
   ],
   "source": [
    "# getting the list of columns with \"boolean\" and \"object\" type:\n",
    "cols_obj_bool = list(train_data.select_dtypes(include=[object, bool]))\n",
    "cols_obj_bool"
   ]
  },
  {
   "cell_type": "markdown",
   "id": "0565dfa5-0be5-4e59-91e3-9823b9776661",
   "metadata": {},
   "source": [
    "#### Splitting `cabin` column into three columns, to convert its type to `binary` e.g. 0 or 1"
   ]
  },
  {
   "cell_type": "code",
   "execution_count": 11,
   "id": "35a9ed51",
   "metadata": {
    "papermill": {
     "duration": 0.072877,
     "end_time": "2022-04-06T11:13:19.912252",
     "exception": false,
     "start_time": "2022-04-06T11:13:19.839375",
     "status": "completed"
    },
    "tags": []
   },
   "outputs": [],
   "source": [
    "train_data[['Deck', 'DeckNum', 'Side']] = train_data['Cabin'].str.split('/', expand=True)\n",
    "test_data[['Deck', 'DeckNum', 'Side']] = test_data['Cabin'].str.split('/', expand=True)"
   ]
  },
  {
   "cell_type": "markdown",
   "id": "fb8debc3-4021-4bca-9097-c2ef90e22e36",
   "metadata": {},
   "source": [
    "#### Checking the other columns to see their unique values, and based on these values they are splitted into different columns, if their unique values are less than 10 each, to avoid multiple columns from being created:"
   ]
  },
  {
   "cell_type": "code",
   "execution_count": 12,
   "id": "8e9c347e",
   "metadata": {
    "papermill": {
     "duration": 0.069863,
     "end_time": "2022-04-06T11:13:20.021265",
     "exception": false,
     "start_time": "2022-04-06T11:13:19.951402",
     "status": "completed"
    },
    "tags": []
   },
   "outputs": [
    {
     "name": "stdout",
     "output_type": "stream",
     "text": [
      "Column \"HomePlanet\" has the following unique values: ['Earth', 'Europa', 'Mars']\n",
      "Column \"HomePlanet\" has the following unique values: ['A', 'B', 'C', 'D', 'E', 'F', 'G', 'T']\n",
      "Column \"HomePlanet\" has the following unique values: ['P', 'S']\n",
      "Column \"HomePlanet\" has the following unique values: ['55 Cancri e', 'PSO J318.5-22', 'TRAPPIST-1e']\n"
     ]
    }
   ],
   "source": [
    "cols = ['HomePlanet', 'Deck', 'Side', 'Destination']\n",
    "\n",
    "for col in cols:\n",
    "    col_name = np.unique(train_data[col]).tolist()\n",
    "    print(f'Column \"HomePlanet\" has the following unique values: {col_name}')"
   ]
  },
  {
   "cell_type": "code",
   "execution_count": 13,
   "id": "4f5029ce",
   "metadata": {
    "papermill": {
     "duration": 0.059815,
     "end_time": "2022-04-06T11:13:20.120680",
     "exception": false,
     "start_time": "2022-04-06T11:13:20.060865",
     "status": "completed"
    },
    "tags": []
   },
   "outputs": [
    {
     "name": "stdout",
     "output_type": "stream",
     "text": [
      "Column \"HomePlanet\" has the following unique values: ['Earth', 'Europa', 'Mars']\n",
      "Column \"HomePlanet\" has the following unique values: ['A', 'B', 'C', 'D', 'E', 'F', 'G', 'T']\n",
      "Column \"HomePlanet\" has the following unique values: ['P', 'S']\n",
      "Column \"HomePlanet\" has the following unique values: ['55 Cancri e', 'PSO J318.5-22', 'TRAPPIST-1e']\n"
     ]
    }
   ],
   "source": [
    "cols = ['HomePlanet', 'Deck', 'Side', 'Destination']\n",
    "\n",
    "for col in cols:\n",
    "    col_name = np.unique(test_data[col]).tolist()\n",
    "    print(f'Column \"HomePlanet\" has the following unique values: {col_name}')"
   ]
  },
  {
   "cell_type": "code",
   "execution_count": 14,
   "id": "3c2f652b",
   "metadata": {
    "papermill": {
     "duration": 0.051346,
     "end_time": "2022-04-06T11:13:20.212209",
     "exception": false,
     "start_time": "2022-04-06T11:13:20.160863",
     "status": "completed"
    },
    "tags": []
   },
   "outputs": [],
   "source": [
    "bool_cols = ['CryoSleep','VIP','Transported']\n",
    "for col in bool_cols:\n",
    "    train_data[col] = pd.Series(np.where(train_data[col].values == True, 1, 0), train_data.index)"
   ]
  },
  {
   "cell_type": "code",
   "execution_count": 15,
   "id": "dd555f94",
   "metadata": {
    "papermill": {
     "duration": 0.050372,
     "end_time": "2022-04-06T11:13:20.303017",
     "exception": false,
     "start_time": "2022-04-06T11:13:20.252645",
     "status": "completed"
    },
    "tags": []
   },
   "outputs": [],
   "source": [
    "bool_cols = ['CryoSleep','VIP']\n",
    "for col in bool_cols:\n",
    "    test_data[col] = pd.Series(np.where(test_data[col].values == True, 1, 0), test_data.index)"
   ]
  },
  {
   "cell_type": "code",
   "execution_count": 16,
   "id": "57002db7",
   "metadata": {
    "papermill": {
     "duration": 0.057457,
     "end_time": "2022-04-06T11:13:20.400449",
     "exception": false,
     "start_time": "2022-04-06T11:13:20.342992",
     "status": "completed"
    },
    "tags": []
   },
   "outputs": [],
   "source": [
    "train_data['BilledAmeni'] = train_data['RoomService'] + train_data['FoodCourt'] +\\\n",
    "train_data['ShoppingMall'] + train_data['Spa'] + train_data['VRDeck']\n",
    "train_data.drop(['RoomService', 'FoodCourt', 'ShoppingMall', 'Spa', 'VRDeck', 'Cabin', 'Name'],\n",
    "       inplace=True, axis=1)\n",
    "train_data['Side'] = pd.Series(np.where(train_data['Side'].values == 'S', 1, 0), train_data.index)\n"
   ]
  },
  {
   "cell_type": "code",
   "execution_count": 17,
   "id": "eda87cf5",
   "metadata": {
    "papermill": {
     "duration": 0.053045,
     "end_time": "2022-04-06T11:13:20.493796",
     "exception": false,
     "start_time": "2022-04-06T11:13:20.440751",
     "status": "completed"
    },
    "tags": []
   },
   "outputs": [],
   "source": [
    "test_data['BilledAmeni'] = test_data['RoomService'] + test_data['FoodCourt'] +\\\n",
    "test_data['ShoppingMall'] + test_data['Spa'] + test_data['VRDeck']\n",
    "test_data.drop(['RoomService', 'FoodCourt', 'ShoppingMall', 'Spa', 'VRDeck', 'Cabin', 'Name'],\n",
    "       inplace=True, axis=1)\n",
    "test_data['Side'] = pd.Series(np.where(test_data['Side'].values == 'S', 1, 0), test_data.index)\n"
   ]
  },
  {
   "cell_type": "markdown",
   "id": "ae106f12-dab7-4f0d-9d6d-85d07d1735e7",
   "metadata": {},
   "source": [
    "#### Other columns such as below are mapped so their `categorical` values could have `numeric` values:"
   ]
  },
  {
   "cell_type": "code",
   "execution_count": 18,
   "id": "cbdeb10b",
   "metadata": {
    "papermill": {
     "duration": 0.054695,
     "end_time": "2022-04-06T11:13:20.588537",
     "exception": false,
     "start_time": "2022-04-06T11:13:20.533842",
     "status": "completed"
    },
    "tags": []
   },
   "outputs": [],
   "source": [
    "mapping = {'Earth': 1, 'Mars': 2, 'Europa': 3}\n",
    "train_data.replace({'HomePlanet': mapping}, inplace=True)"
   ]
  },
  {
   "cell_type": "code",
   "execution_count": 19,
   "id": "45cf841b",
   "metadata": {
    "papermill": {
     "duration": 0.051191,
     "end_time": "2022-04-06T11:13:20.679895",
     "exception": false,
     "start_time": "2022-04-06T11:13:20.628704",
     "status": "completed"
    },
    "tags": []
   },
   "outputs": [],
   "source": [
    "mapping = {'Earth': 1, 'Mars': 2, 'Europa': 3}\n",
    "test_data.replace({'HomePlanet': mapping}, inplace=True)"
   ]
  },
  {
   "cell_type": "code",
   "execution_count": 20,
   "id": "83a48e05",
   "metadata": {
    "papermill": {
     "duration": 0.056842,
     "end_time": "2022-04-06T11:13:20.777887",
     "exception": false,
     "start_time": "2022-04-06T11:13:20.721045",
     "status": "completed"
    },
    "tags": []
   },
   "outputs": [],
   "source": [
    "mapping = {'A' : 1, 'B' : 2, 'C' : 3, 'D' : 4, 'E' : 5, 'F' : 6, 'G' : 7, 'T' : 8}\n",
    "train_data.replace({'Deck': mapping}, inplace=True)"
   ]
  },
  {
   "cell_type": "code",
   "execution_count": 21,
   "id": "69d2f288",
   "metadata": {
    "papermill": {
     "duration": 0.053262,
     "end_time": "2022-04-06T11:13:20.871077",
     "exception": false,
     "start_time": "2022-04-06T11:13:20.817815",
     "status": "completed"
    },
    "tags": []
   },
   "outputs": [],
   "source": [
    "mapping = {'A' : 1, 'B' : 2, 'C' : 3, 'D' : 4, 'E' : 5, 'F' : 6, 'G' : 7, 'T' : 8}\n",
    "test_data.replace({'Deck': mapping}, inplace=True)"
   ]
  },
  {
   "cell_type": "code",
   "execution_count": 22,
   "id": "487d2685",
   "metadata": {
    "papermill": {
     "duration": 0.05391,
     "end_time": "2022-04-06T11:13:20.965668",
     "exception": false,
     "start_time": "2022-04-06T11:13:20.911758",
     "status": "completed"
    },
    "tags": []
   },
   "outputs": [],
   "source": [
    "mapping = {'55 Cancri e': 1, 'PSO J318.5-22': 2, 'TRAPPIST-1e': 3}\n",
    "train_data.replace({'Destination': mapping}, inplace=True)"
   ]
  },
  {
   "cell_type": "code",
   "execution_count": 23,
   "id": "e84b934b",
   "metadata": {
    "papermill": {
     "duration": 0.052287,
     "end_time": "2022-04-06T11:13:21.057836",
     "exception": false,
     "start_time": "2022-04-06T11:13:21.005549",
     "status": "completed"
    },
    "tags": []
   },
   "outputs": [],
   "source": [
    "mapping = {'55 Cancri e': 1, 'PSO J318.5-22': 2, 'TRAPPIST-1e': 3}\n",
    "test_data.replace({'Destination': mapping}, inplace=True)"
   ]
  },
  {
   "cell_type": "code",
   "execution_count": 24,
   "id": "5867bb89",
   "metadata": {
    "papermill": {
     "duration": 0.06349,
     "end_time": "2022-04-06T11:13:21.161242",
     "exception": false,
     "start_time": "2022-04-06T11:13:21.097752",
     "status": "completed"
    },
    "tags": []
   },
   "outputs": [
    {
     "name": "stdout",
     "output_type": "stream",
     "text": [
      "Features:\n",
      " ['PassengerId', 'HomePlanet', 'CryoSleep', 'Destination', 'Age', 'VIP', 'Transported', 'Deck', 'DeckNum', 'Side', 'BilledAmeni']\n",
      "\n",
      "Sorted Features:\n",
      " ['PassengerId', 'HomePlanet', 'CryoSleep', 'Destination', 'Age', 'VIP', 'Deck', 'DeckNum', 'Side', 'BilledAmeni', 'Transported']\n",
      "\n"
     ]
    },
    {
     "data": {
      "text/html": [
       "<div>\n",
       "<style scoped>\n",
       "    .dataframe tbody tr th:only-of-type {\n",
       "        vertical-align: middle;\n",
       "    }\n",
       "\n",
       "    .dataframe tbody tr th {\n",
       "        vertical-align: top;\n",
       "    }\n",
       "\n",
       "    .dataframe thead th {\n",
       "        text-align: right;\n",
       "    }\n",
       "</style>\n",
       "<table border=\"1\" class=\"dataframe\">\n",
       "  <thead>\n",
       "    <tr style=\"text-align: right;\">\n",
       "      <th></th>\n",
       "      <th>PassengerId</th>\n",
       "      <th>HomePlanet</th>\n",
       "      <th>CryoSleep</th>\n",
       "      <th>Destination</th>\n",
       "      <th>Age</th>\n",
       "      <th>VIP</th>\n",
       "      <th>Deck</th>\n",
       "      <th>DeckNum</th>\n",
       "      <th>Side</th>\n",
       "      <th>BilledAmeni</th>\n",
       "      <th>Transported</th>\n",
       "    </tr>\n",
       "  </thead>\n",
       "  <tbody>\n",
       "    <tr>\n",
       "      <th>0</th>\n",
       "      <td>0001_01</td>\n",
       "      <td>3</td>\n",
       "      <td>0</td>\n",
       "      <td>3</td>\n",
       "      <td>39.0</td>\n",
       "      <td>0</td>\n",
       "      <td>2</td>\n",
       "      <td>0</td>\n",
       "      <td>0</td>\n",
       "      <td>0.0</td>\n",
       "      <td>0</td>\n",
       "    </tr>\n",
       "    <tr>\n",
       "      <th>1</th>\n",
       "      <td>0002_01</td>\n",
       "      <td>1</td>\n",
       "      <td>0</td>\n",
       "      <td>3</td>\n",
       "      <td>24.0</td>\n",
       "      <td>0</td>\n",
       "      <td>6</td>\n",
       "      <td>0</td>\n",
       "      <td>1</td>\n",
       "      <td>736.0</td>\n",
       "      <td>1</td>\n",
       "    </tr>\n",
       "    <tr>\n",
       "      <th>2</th>\n",
       "      <td>0003_01</td>\n",
       "      <td>3</td>\n",
       "      <td>0</td>\n",
       "      <td>3</td>\n",
       "      <td>58.0</td>\n",
       "      <td>1</td>\n",
       "      <td>1</td>\n",
       "      <td>0</td>\n",
       "      <td>1</td>\n",
       "      <td>10383.0</td>\n",
       "      <td>0</td>\n",
       "    </tr>\n",
       "    <tr>\n",
       "      <th>3</th>\n",
       "      <td>0003_02</td>\n",
       "      <td>3</td>\n",
       "      <td>0</td>\n",
       "      <td>3</td>\n",
       "      <td>33.0</td>\n",
       "      <td>0</td>\n",
       "      <td>1</td>\n",
       "      <td>0</td>\n",
       "      <td>1</td>\n",
       "      <td>5176.0</td>\n",
       "      <td>0</td>\n",
       "    </tr>\n",
       "    <tr>\n",
       "      <th>4</th>\n",
       "      <td>0004_01</td>\n",
       "      <td>1</td>\n",
       "      <td>0</td>\n",
       "      <td>3</td>\n",
       "      <td>16.0</td>\n",
       "      <td>0</td>\n",
       "      <td>6</td>\n",
       "      <td>1</td>\n",
       "      <td>1</td>\n",
       "      <td>1091.0</td>\n",
       "      <td>1</td>\n",
       "    </tr>\n",
       "  </tbody>\n",
       "</table>\n",
       "</div>"
      ],
      "text/plain": [
       "  PassengerId  HomePlanet  CryoSleep  Destination   Age  VIP  Deck DeckNum  \\\n",
       "0     0001_01           3          0            3  39.0    0     2       0   \n",
       "1     0002_01           1          0            3  24.0    0     6       0   \n",
       "2     0003_01           3          0            3  58.0    1     1       0   \n",
       "3     0003_02           3          0            3  33.0    0     1       0   \n",
       "4     0004_01           1          0            3  16.0    0     6       1   \n",
       "\n",
       "   Side  BilledAmeni  Transported  \n",
       "0     0          0.0            0  \n",
       "1     1        736.0            1  \n",
       "2     1      10383.0            0  \n",
       "3     1       5176.0            0  \n",
       "4     1       1091.0            1  "
      ]
     },
     "execution_count": 24,
     "metadata": {},
     "output_type": "execute_result"
    }
   ],
   "source": [
    "cols = train_data.columns.tolist()\n",
    "print('Features:\\n', cols, end='\\n\\n')\n",
    "tr = train_data.columns.get_loc('Transported')\n",
    "cols_sorted = cols[:tr] + cols[tr+1:] + [cols[tr]]\n",
    "print('Sorted Features:\\n', cols_sorted, end='\\n\\n')\n",
    "train_data = train_data[cols_sorted]\n",
    "train_data.head()"
   ]
  },
  {
   "cell_type": "markdown",
   "id": "1d931e8e-ee84-4025-b463-6bef481e03b0",
   "metadata": {},
   "source": [
    "Now the correlation between all the columns could be measured to see if any of the columns can impact other columns in a negative or positive way. Correlation coefficients are used to measure the strength of the linear relationship between two variables. These columns would be helpful to choose to train the model.\n",
    "- Correlation values:\n",
    "    - zero: no correlation i.e. no relationship\n",
    "    - near zero: weak relationship\n",
    "    - Above zero: positive relationship, e.g. when one column's value increases, the other column also increases.\n",
    "    - Below zero: negative relationship, e.g. when one column's value increases, the other column also decreases. "
   ]
  },
  {
   "cell_type": "code",
   "execution_count": 25,
   "id": "59ee9436",
   "metadata": {
    "papermill": {
     "duration": 0.676056,
     "end_time": "2022-04-06T11:13:21.878441",
     "exception": false,
     "start_time": "2022-04-06T11:13:21.202385",
     "status": "completed"
    },
    "tags": []
   },
   "outputs": [
    {
     "data": {
      "text/plain": [
       "<Axes: >"
      ]
     },
     "execution_count": 25,
     "metadata": {},
     "output_type": "execute_result"
    },
    {
     "data": {
      "image/png": "[encoded data removed]",
      "text/plain": [
       "<Figure size 1100x900 with 2 Axes>"
      ]
     },
     "metadata": {},
     "output_type": "display_data"
    }
   ],
   "source": [
    "corr = train_data.corr()\n",
    "mask = np.triu(np.ones_like(corr, dtype=bool))\n",
    "f, ax = plt.subplots(figsize=(11, 9))\n",
    "cmap = sns.diverging_palette(230, 10, as_cmap=True)\n",
    "\n",
    "sns.heatmap(corr, mask=mask, cmap=cmap, annot=True, annot_kws={\"size\": 10},\n",
    "            vmin=-1, vmax=1, center=0, square=True, linewidths=0.1,\n",
    "            cbar_kws={\"shrink\": .5})"
   ]
  },
  {
   "cell_type": "markdown",
   "id": "ca973979-f6cc-420e-9421-8db1ccaece2f",
   "metadata": {
    "papermill": {
     "duration": 0.042884,
     "end_time": "2022-04-06T11:13:21.965666",
     "exception": false,
     "start_time": "2022-04-06T11:13:21.922782",
     "status": "completed"
    },
    "tags": []
   },
   "source": [
    "#### We can see that `Deck` and `HomePlanet` columns are correlated, which means if you come from a certain planet you must likely to be in a certain deck that the majority of its residents come from your planet."
   ]
  },
  {
   "cell_type": "markdown",
   "id": "4be29fdd-fbe7-4e24-83d3-6aebcd1cd374",
   "metadata": {},
   "source": [
    "Here we are using `X` which contains all columns except `Transported` column, and `y` contains only `Transported` column"
   ]
  },
  {
   "cell_type": "code",
   "execution_count": 26,
   "id": "085143ba",
   "metadata": {
    "papermill": {
     "duration": 0.054389,
     "end_time": "2022-04-06T11:13:22.063125",
     "exception": false,
     "start_time": "2022-04-06T11:13:22.008736",
     "status": "completed"
    },
    "tags": []
   },
   "outputs": [],
   "source": [
    "X = train_data.iloc[:,:-1]\n",
    "y = train_data.iloc[:,-1]"
   ]
  },
  {
   "cell_type": "markdown",
   "id": "b4fa61b8-3641-4588-811c-7088c2da99c1",
   "metadata": {},
   "source": [
    "Using *Principal component analysis* (PCA), to remove all related columns that could cause overfitting. In other words, it removes any noise.\n",
    "\n",
    "*Overfitting* is when the model cannot generalise, which is caused by different reasons including related/highly correlated columns."
   ]
  },
  {
   "cell_type": "code",
   "execution_count": 37,
   "id": "24ac51c2",
   "metadata": {
    "papermill": {
     "duration": 0.846328,
     "end_time": "2022-04-06T11:13:22.953424",
     "exception": false,
     "start_time": "2022-04-06T11:13:22.107096",
     "status": "completed"
    },
    "tags": []
   },
   "outputs": [
    {
     "name": "stdout",
     "output_type": "stream",
     "text": [
      "Model Error is: 51.0 %\n"
     ]
    }
   ],
   "source": [
    "pca = PCA(n_components=0.95)\n",
    "scale = StandardScaler()\n",
    "scale.fit(X)\n",
    "X = scale.fit_transform(X)\n",
    "\n",
    "pca.fit(X)\n",
    "X = pca.transform(X)\n",
    "\n",
    "train_X, val_X, train_y, val_y = train_test_split(X, y, test_size=0.25)\n",
    "\n",
    "model = RandomForestClassifier(random_state=1)\n",
    "model.fit(train_X, train_y)\n",
    "pred = model.predict(val_X)\n",
    "rmse = mean_squared_error(pred, val_y, squared=False)\n",
    "\n",
    "print(f'Model Error is: {round(rmse, 2)*100} %')"
   ]
  },
  {
   "cell_type": "markdown",
   "id": "efd146a7-a29c-4691-808e-1fd5fbe10563",
   "metadata": {},
   "source": [
    "When the model's error (RMSE) value ≥ 50%, it means the model is performing poorly."
   ]
  },
  {
   "cell_type": "code",
   "execution_count": 51,
   "id": "df04dada-70a5-4689-93f7-a08147062b01",
   "metadata": {},
   "outputs": [
    {
     "name": "stdout",
     "output_type": "stream",
     "text": [
      "R2 is:\n",
      "-0.0509\n",
      "\n",
      "R2 percentage is:\n",
      "-0.056\n",
      "\n",
      "Adjusted R2 is:\n",
      "-0.0521\n",
      "\n"
     ]
    }
   ],
   "source": [
    "r2 = r2_score(val_y, pred)\n",
    "\n",
    "n_x = len(val_X)\n",
    "r2_per = 1-(1-r2)*((n_x-1)/(n_x-len(val_X[0])-1))\n",
    "\n",
    "Adj_r2 = 1 - (1-r2) * (len(y)-1)/(len(y)-X.shape[1]-1)\n",
    "\n",
    "print(f'R2 is:\\n{round(r2, 4)}\\n')\n",
    "print(f'R2 percentage is:\\n{round(r2_per, 4)}\\n')\n",
    "print(f'Adjusted R2 is:\\n{round(Adj_r2, 4)}\\n')"
   ]
  },
  {
   "cell_type": "markdown",
   "id": "8a18f280-3bae-4223-a97c-60eeb07b655e",
   "metadata": {},
   "source": [
    "\"Adjusted R2 identifies the percentage of variance in the target field that is explained by the input or inputs. A value of 1 indicates a model that perfectly predicts values in the target field. **A value that is less than or equal to 0 indicates a model that has no predictive value.**\"\n",
    "\n",
    "source: https://www.ibm.com/docs/en/cognos-analytics/11.1.0?topic=terms-adjusted-r-squared\n",
    "\n",
    "So based on the values above, this model has no predictive value, which means **it needs more adjustments** to fix this issue."
   ]
  },
  {
   "cell_type": "code",
   "execution_count": 30,
   "id": "0f5719ee",
   "metadata": {
    "papermill": {
     "duration": 0.133906,
     "end_time": "2022-04-06T11:13:23.131389",
     "exception": false,
     "start_time": "2022-04-06T11:13:22.997483",
     "status": "completed"
    },
    "tags": []
   },
   "outputs": [],
   "source": [
    "scale.fit(test_data)\n",
    "test_X=scale.fit_transform(test_data)\n",
    "pca.fit(test_X)\n",
    "test_X = pca.transform(test_X)\n",
    "\n",
    "test_pred = model.predict(test_X)\n",
    "\n",
    "predict_df = pd.DataFrame({'PassengerId': test_data.PassengerId,\n",
    "                           'Transported': test_pred})\n",
    "\n",
    "mapping = {1: 'True', 0: 'False'}\n",
    "predict_df.replace({'Transported': mapping}, inplace=True)\n",
    "\n",
    "predict_df.to_csv('./titanic/submission.csv', index=False)"
   ]
  },
  {
   "cell_type": "markdown",
   "id": "1be46fec-981a-459f-9852-5c82b168994f",
   "metadata": {},
   "source": [
    "Exporting the data to a separate `submission.csv` file"
   ]
  },
  {
   "cell_type": "code",
   "execution_count": 31,
   "id": "9e49c90c",
   "metadata": {
    "papermill": {
     "duration": 0.060896,
     "end_time": "2022-04-06T11:13:24.116316",
     "exception": false,
     "start_time": "2022-04-06T11:13:24.055420",
     "status": "completed"
    },
    "tags": []
   },
   "outputs": [
    {
     "data": {
      "text/html": [
       "<div>\n",
       "<style scoped>\n",
       "    .dataframe tbody tr th:only-of-type {\n",
       "        vertical-align: middle;\n",
       "    }\n",
       "\n",
       "    .dataframe tbody tr th {\n",
       "        vertical-align: top;\n",
       "    }\n",
       "\n",
       "    .dataframe thead th {\n",
       "        text-align: right;\n",
       "    }\n",
       "</style>\n",
       "<table border=\"1\" class=\"dataframe\">\n",
       "  <thead>\n",
       "    <tr style=\"text-align: right;\">\n",
       "      <th></th>\n",
       "      <th>PassengerId</th>\n",
       "      <th>Transported</th>\n",
       "    </tr>\n",
       "  </thead>\n",
       "  <tbody>\n",
       "    <tr>\n",
       "      <th>0</th>\n",
       "      <td>0013_01</td>\n",
       "      <td>False</td>\n",
       "    </tr>\n",
       "    <tr>\n",
       "      <th>1</th>\n",
       "      <td>0018_01</td>\n",
       "      <td>False</td>\n",
       "    </tr>\n",
       "    <tr>\n",
       "      <th>2</th>\n",
       "      <td>0019_01</td>\n",
       "      <td>True</td>\n",
       "    </tr>\n",
       "    <tr>\n",
       "      <th>3</th>\n",
       "      <td>0021_01</td>\n",
       "      <td>False</td>\n",
       "    </tr>\n",
       "    <tr>\n",
       "      <th>4</th>\n",
       "      <td>0023_01</td>\n",
       "      <td>False</td>\n",
       "    </tr>\n",
       "    <tr>\n",
       "      <th>...</th>\n",
       "      <td>...</td>\n",
       "      <td>...</td>\n",
       "    </tr>\n",
       "    <tr>\n",
       "      <th>4269</th>\n",
       "      <td>9263_01</td>\n",
       "      <td>True</td>\n",
       "    </tr>\n",
       "    <tr>\n",
       "      <th>4270</th>\n",
       "      <td>9265_01</td>\n",
       "      <td>False</td>\n",
       "    </tr>\n",
       "    <tr>\n",
       "      <th>4271</th>\n",
       "      <td>9266_01</td>\n",
       "      <td>True</td>\n",
       "    </tr>\n",
       "    <tr>\n",
       "      <th>4272</th>\n",
       "      <td>9266_02</td>\n",
       "      <td>True</td>\n",
       "    </tr>\n",
       "    <tr>\n",
       "      <th>4276</th>\n",
       "      <td>9277_01</td>\n",
       "      <td>True</td>\n",
       "    </tr>\n",
       "  </tbody>\n",
       "</table>\n",
       "<p>3281 rows × 2 columns</p>\n",
       "</div>"
      ],
      "text/plain": [
       "     PassengerId Transported\n",
       "0        0013_01       False\n",
       "1        0018_01       False\n",
       "2        0019_01        True\n",
       "3        0021_01       False\n",
       "4        0023_01       False\n",
       "...          ...         ...\n",
       "4269     9263_01        True\n",
       "4270     9265_01       False\n",
       "4271     9266_01        True\n",
       "4272     9266_02        True\n",
       "4276     9277_01        True\n",
       "\n",
       "[3281 rows x 2 columns]"
      ]
     },
     "execution_count": 31,
     "metadata": {},
     "output_type": "execute_result"
    }
   ],
   "source": [
    "predict_df"
   ]
  },
  {
   "cell_type": "code",
   "execution_count": null,
   "id": "63b5fdc0",
   "metadata": {
    "papermill": {
     "duration": 0.043823,
     "end_time": "2022-04-06T11:13:24.205229",
     "exception": false,
     "start_time": "2022-04-06T11:13:24.161406",
     "status": "completed"
    },
    "tags": []
   },
   "outputs": [],
   "source": []
  }
 ],
 "metadata": {
  "kernelspec": {
   "display_name": "Python 3 (ipykernel)",
   "language": "python",
   "name": "python3"
  },
  "language_info": {
   "codemirror_mode": {
    "name": "ipython",
    "version": 3
   },
   "file_extension": ".py",
   "mimetype": "text/x-python",
   "name": "python",
   "nbconvert_exporter": "python",
   "pygments_lexer": "ipython3",
   "version": "3.11.6"
  },
  "papermill": {
   "default_parameters": {},
   "duration": 17.870191,
   "end_time": "2022-04-06T11:13:24.963757",
   "environment_variables": {},
   "exception": null,
   "input_path": "__notebook__.ipynb",
   "output_path": "__notebook__.ipynb",
   "parameters": {},
   "start_time": "2022-04-06T11:13:07.093566",
   "version": "2.3.3"
  }
 },
 "nbformat": 4,
 "nbformat_minor": 5
}
