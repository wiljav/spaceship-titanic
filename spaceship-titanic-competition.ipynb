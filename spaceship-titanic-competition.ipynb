{
 "cells": [
  {
   "cell_type": "code",
   "execution_count": 400,
   "id": "d148a081",
   "metadata": {
    "_cell_guid": "b1076dfc-b9ad-4769-8c92-a6c4dae69d19",
    "_uuid": "8f2839f25d086af736a60e9eeb907d3b93b6e0e5",
    "execution": {
     "iopub.execute_input": "2022-04-06T11:13:17.139226Z",
     "iopub.status.busy": "2022-04-06T11:13:17.138036Z",
     "iopub.status.idle": "2022-04-06T11:13:17.149617Z",
     "shell.execute_reply": "2022-04-06T11:13:17.150143Z",
     "shell.execute_reply.started": "2022-04-06T11:12:34.192526Z"
    },
    "papermill": {
     "duration": 0.053539,
     "end_time": "2022-04-06T11:13:17.150445",
     "exception": false,
     "start_time": "2022-04-06T11:13:17.096906",
     "status": "completed"
    },
    "tags": []
   },
   "outputs": [
    {
     "name": "stdout",
     "output_type": "stream",
     "text": [
      "./spaceship-titanic/test.csv\n",
      "./spaceship-titanic/train.csv\n",
      "./spaceship-titanic/submission.csv\n"
     ]
    }
   ],
   "source": [
    "import os\n",
    "for dirname, _, filenames in os.walk('./spaceship-titanic/'):\n",
    "    for filename in filenames:\n",
    "        print(os.path.join(dirname, filename))"
   ]
  },
  {
   "cell_type": "code",
   "execution_count": 401,
   "id": "a8bcb8a5",
   "metadata": {
    "execution": {
     "iopub.execute_input": "2022-04-06T11:13:17.224743Z",
     "iopub.status.busy": "2022-04-06T11:13:17.224112Z",
     "iopub.status.idle": "2022-04-06T11:13:18.710825Z",
     "shell.execute_reply": "2022-04-06T11:13:18.711377Z",
     "shell.execute_reply.started": "2022-04-06T11:12:34.465565Z"
    },
    "papermill": {
     "duration": 1.525105,
     "end_time": "2022-04-06T11:13:18.711582",
     "exception": false,
     "start_time": "2022-04-06T11:13:17.186477",
     "status": "completed"
    },
    "tags": []
   },
   "outputs": [],
   "source": [
    "import pandas as pd\n",
    "import numpy as np\n",
    "import matplotlib.pyplot as plt\n",
    "import seaborn as sns\n",
    "import warnings\n",
    "warnings.filterwarnings(\"ignore\")\n",
    "\n",
    "from sklearn.ensemble import RandomForestClassifier\n",
    "from sklearn.metrics import mean_squared_error\n",
    "from sklearn.model_selection import train_test_split\n",
    "from sklearn.decomposition import PCA\n",
    "from sklearn.preprocessing import StandardScaler"
   ]
  },
  {
   "cell_type": "code",
   "execution_count": 402,
   "id": "9e8a086c",
   "metadata": {
    "execution": {
     "iopub.execute_input": "2022-04-06T11:13:18.789746Z",
     "iopub.status.busy": "2022-04-06T11:13:18.787563Z",
     "iopub.status.idle": "2022-04-06T11:13:18.791372Z",
     "shell.execute_reply": "2022-04-06T11:13:18.791962Z",
     "shell.execute_reply.started": "2022-04-06T11:12:34.515225Z"
    },
    "papermill": {
     "duration": 0.043663,
     "end_time": "2022-04-06T11:13:18.792130",
     "exception": false,
     "start_time": "2022-04-06T11:13:18.748467",
     "status": "completed"
    },
    "tags": []
   },
   "outputs": [],
   "source": [
    "plt.style.use('ggplot')\n",
    "sns.set_style('whitegrid')"
   ]
  },
  {
   "cell_type": "code",
   "execution_count": 403,
   "id": "55ceea35",
   "metadata": {
    "execution": {
     "iopub.execute_input": "2022-04-06T11:13:18.865913Z",
     "iopub.status.busy": "2022-04-06T11:13:18.865224Z",
     "iopub.status.idle": "2022-04-06T11:13:18.947874Z",
     "shell.execute_reply": "2022-04-06T11:13:18.948423Z",
     "shell.execute_reply.started": "2022-04-06T11:12:34.723575Z"
    },
    "papermill": {
     "duration": 0.121157,
     "end_time": "2022-04-06T11:13:18.948616",
     "exception": false,
     "start_time": "2022-04-06T11:13:18.827459",
     "status": "completed"
    },
    "tags": []
   },
   "outputs": [],
   "source": [
    "train_file = './spaceship-titanic/train.csv'\n",
    "test_file = './spaceship-titanic/test.csv'\n",
    "\n",
    "train_data = pd.read_csv(train_file)\n",
    "test_data = pd.read_csv(test_file)"
   ]
  },
  {
   "cell_type": "code",
   "execution_count": 404,
   "id": "ff3133b1",
   "metadata": {
    "execution": {
     "iopub.execute_input": "2022-04-06T11:13:19.024952Z",
     "iopub.status.busy": "2022-04-06T11:13:19.024214Z",
     "iopub.status.idle": "2022-04-06T11:13:19.044197Z",
     "shell.execute_reply": "2022-04-06T11:13:19.044693Z",
     "shell.execute_reply.started": "2022-04-06T11:12:34.821045Z"
    },
    "papermill": {
     "duration": 0.060037,
     "end_time": "2022-04-06T11:13:19.044872",
     "exception": false,
     "start_time": "2022-04-06T11:13:18.984835",
     "status": "completed"
    },
    "tags": []
   },
   "outputs": [
    {
     "data": {
      "text/plain": [
       "PassengerId       0\n",
       "HomePlanet      201\n",
       "CryoSleep       217\n",
       "Cabin           199\n",
       "Destination     182\n",
       "Age             179\n",
       "VIP             203\n",
       "RoomService     181\n",
       "FoodCourt       183\n",
       "ShoppingMall    208\n",
       "Spa             183\n",
       "VRDeck          188\n",
       "Name            200\n",
       "Transported       0\n",
       "dtype: int64"
      ]
     },
     "execution_count": 404,
     "metadata": {},
     "output_type": "execute_result"
    }
   ],
   "source": [
    "train_data.isnull().sum()"
   ]
  },
  {
   "cell_type": "code",
   "execution_count": 405,
   "id": "a7740544",
   "metadata": {
    "execution": {
     "iopub.execute_input": "2022-04-06T11:13:19.122027Z",
     "iopub.status.busy": "2022-04-06T11:13:19.120198Z",
     "iopub.status.idle": "2022-04-06T11:13:19.131996Z",
     "shell.execute_reply": "2022-04-06T11:13:19.132546Z",
     "shell.execute_reply.started": "2022-04-06T11:12:34.841527Z"
    },
    "papermill": {
     "duration": 0.052234,
     "end_time": "2022-04-06T11:13:19.132726",
     "exception": false,
     "start_time": "2022-04-06T11:13:19.080492",
     "status": "completed"
    },
    "tags": []
   },
   "outputs": [
    {
     "data": {
      "text/plain": [
       "PassengerId       0\n",
       "HomePlanet       87\n",
       "CryoSleep        93\n",
       "Cabin           100\n",
       "Destination      92\n",
       "Age              91\n",
       "VIP              93\n",
       "RoomService      82\n",
       "FoodCourt       106\n",
       "ShoppingMall     98\n",
       "Spa             101\n",
       "VRDeck           80\n",
       "Name             94\n",
       "dtype: int64"
      ]
     },
     "execution_count": 405,
     "metadata": {},
     "output_type": "execute_result"
    }
   ],
   "source": [
    "test_data.isnull().sum()"
   ]
  },
  {
   "cell_type": "code",
   "execution_count": 406,
   "id": "16538362",
   "metadata": {
    "execution": {
     "iopub.execute_input": "2022-04-06T11:13:19.208065Z",
     "iopub.status.busy": "2022-04-06T11:13:19.207116Z",
     "iopub.status.idle": "2022-04-06T11:13:19.232285Z",
     "shell.execute_reply": "2022-04-06T11:13:19.231793Z",
     "shell.execute_reply.started": "2022-04-06T11:12:35.014963Z"
    },
    "papermill": {
     "duration": 0.063843,
     "end_time": "2022-04-06T11:13:19.232426",
     "exception": false,
     "start_time": "2022-04-06T11:13:19.168583",
     "status": "completed"
    },
    "tags": []
   },
   "outputs": [
    {
     "data": {
      "text/html": [
       "<div>\n",
       "<style scoped>\n",
       "    .dataframe tbody tr th:only-of-type {\n",
       "        vertical-align: middle;\n",
       "    }\n",
       "\n",
       "    .dataframe tbody tr th {\n",
       "        vertical-align: top;\n",
       "    }\n",
       "\n",
       "    .dataframe thead th {\n",
       "        text-align: right;\n",
       "    }\n",
       "</style>\n",
       "<table border=\"1\" class=\"dataframe\">\n",
       "  <thead>\n",
       "    <tr style=\"text-align: right;\">\n",
       "      <th></th>\n",
       "      <th>PassengerId</th>\n",
       "      <th>HomePlanet</th>\n",
       "      <th>CryoSleep</th>\n",
       "      <th>Cabin</th>\n",
       "      <th>Destination</th>\n",
       "      <th>Age</th>\n",
       "      <th>VIP</th>\n",
       "      <th>RoomService</th>\n",
       "      <th>FoodCourt</th>\n",
       "      <th>ShoppingMall</th>\n",
       "      <th>Spa</th>\n",
       "      <th>VRDeck</th>\n",
       "      <th>Name</th>\n",
       "      <th>Transported</th>\n",
       "    </tr>\n",
       "  </thead>\n",
       "  <tbody>\n",
       "    <tr>\n",
       "      <th>0</th>\n",
       "      <td>0001_01</td>\n",
       "      <td>Europa</td>\n",
       "      <td>False</td>\n",
       "      <td>B/0/P</td>\n",
       "      <td>TRAPPIST-1e</td>\n",
       "      <td>39.0</td>\n",
       "      <td>False</td>\n",
       "      <td>0.0</td>\n",
       "      <td>0.0</td>\n",
       "      <td>0.0</td>\n",
       "      <td>0.0</td>\n",
       "      <td>0.0</td>\n",
       "      <td>Maham Ofracculy</td>\n",
       "      <td>False</td>\n",
       "    </tr>\n",
       "    <tr>\n",
       "      <th>1</th>\n",
       "      <td>0002_01</td>\n",
       "      <td>Earth</td>\n",
       "      <td>False</td>\n",
       "      <td>F/0/S</td>\n",
       "      <td>TRAPPIST-1e</td>\n",
       "      <td>24.0</td>\n",
       "      <td>False</td>\n",
       "      <td>109.0</td>\n",
       "      <td>9.0</td>\n",
       "      <td>25.0</td>\n",
       "      <td>549.0</td>\n",
       "      <td>44.0</td>\n",
       "      <td>Juanna Vines</td>\n",
       "      <td>True</td>\n",
       "    </tr>\n",
       "    <tr>\n",
       "      <th>2</th>\n",
       "      <td>0003_01</td>\n",
       "      <td>Europa</td>\n",
       "      <td>False</td>\n",
       "      <td>A/0/S</td>\n",
       "      <td>TRAPPIST-1e</td>\n",
       "      <td>58.0</td>\n",
       "      <td>True</td>\n",
       "      <td>43.0</td>\n",
       "      <td>3576.0</td>\n",
       "      <td>0.0</td>\n",
       "      <td>6715.0</td>\n",
       "      <td>49.0</td>\n",
       "      <td>Altark Susent</td>\n",
       "      <td>False</td>\n",
       "    </tr>\n",
       "    <tr>\n",
       "      <th>3</th>\n",
       "      <td>0003_02</td>\n",
       "      <td>Europa</td>\n",
       "      <td>False</td>\n",
       "      <td>A/0/S</td>\n",
       "      <td>TRAPPIST-1e</td>\n",
       "      <td>33.0</td>\n",
       "      <td>False</td>\n",
       "      <td>0.0</td>\n",
       "      <td>1283.0</td>\n",
       "      <td>371.0</td>\n",
       "      <td>3329.0</td>\n",
       "      <td>193.0</td>\n",
       "      <td>Solam Susent</td>\n",
       "      <td>False</td>\n",
       "    </tr>\n",
       "    <tr>\n",
       "      <th>4</th>\n",
       "      <td>0004_01</td>\n",
       "      <td>Earth</td>\n",
       "      <td>False</td>\n",
       "      <td>F/1/S</td>\n",
       "      <td>TRAPPIST-1e</td>\n",
       "      <td>16.0</td>\n",
       "      <td>False</td>\n",
       "      <td>303.0</td>\n",
       "      <td>70.0</td>\n",
       "      <td>151.0</td>\n",
       "      <td>565.0</td>\n",
       "      <td>2.0</td>\n",
       "      <td>Willy Santantines</td>\n",
       "      <td>True</td>\n",
       "    </tr>\n",
       "  </tbody>\n",
       "</table>\n",
       "</div>"
      ],
      "text/plain": [
       "  PassengerId HomePlanet CryoSleep  Cabin  Destination   Age    VIP  \\\n",
       "0     0001_01     Europa     False  B/0/P  TRAPPIST-1e  39.0  False   \n",
       "1     0002_01      Earth     False  F/0/S  TRAPPIST-1e  24.0  False   \n",
       "2     0003_01     Europa     False  A/0/S  TRAPPIST-1e  58.0   True   \n",
       "3     0003_02     Europa     False  A/0/S  TRAPPIST-1e  33.0  False   \n",
       "4     0004_01      Earth     False  F/1/S  TRAPPIST-1e  16.0  False   \n",
       "\n",
       "   RoomService  FoodCourt  ShoppingMall     Spa  VRDeck               Name  \\\n",
       "0          0.0        0.0           0.0     0.0     0.0    Maham Ofracculy   \n",
       "1        109.0        9.0          25.0   549.0    44.0       Juanna Vines   \n",
       "2         43.0     3576.0           0.0  6715.0    49.0      Altark Susent   \n",
       "3          0.0     1283.0         371.0  3329.0   193.0       Solam Susent   \n",
       "4        303.0       70.0         151.0   565.0     2.0  Willy Santantines   \n",
       "\n",
       "   Transported  \n",
       "0        False  \n",
       "1         True  \n",
       "2        False  \n",
       "3        False  \n",
       "4         True  "
      ]
     },
     "execution_count": 406,
     "metadata": {},
     "output_type": "execute_result"
    }
   ],
   "source": [
    "train_data.head()"
   ]
  },
  {
   "cell_type": "code",
   "execution_count": 407,
   "id": "a284a44a",
   "metadata": {
    "execution": {
     "iopub.execute_input": "2022-04-06T11:13:19.326017Z",
     "iopub.status.busy": "2022-04-06T11:13:19.325035Z",
     "iopub.status.idle": "2022-04-06T11:13:19.328713Z",
     "shell.execute_reply": "2022-04-06T11:13:19.329200Z",
     "shell.execute_reply.started": "2022-04-06T11:12:35.073077Z"
    },
    "papermill": {
     "duration": 0.059571,
     "end_time": "2022-04-06T11:13:19.329374",
     "exception": false,
     "start_time": "2022-04-06T11:13:19.269803",
     "status": "completed"
    },
    "tags": []
   },
   "outputs": [
    {
     "data": {
      "text/html": [
       "<div>\n",
       "<style scoped>\n",
       "    .dataframe tbody tr th:only-of-type {\n",
       "        vertical-align: middle;\n",
       "    }\n",
       "\n",
       "    .dataframe tbody tr th {\n",
       "        vertical-align: top;\n",
       "    }\n",
       "\n",
       "    .dataframe thead th {\n",
       "        text-align: right;\n",
       "    }\n",
       "</style>\n",
       "<table border=\"1\" class=\"dataframe\">\n",
       "  <thead>\n",
       "    <tr style=\"text-align: right;\">\n",
       "      <th></th>\n",
       "      <th>PassengerId</th>\n",
       "      <th>HomePlanet</th>\n",
       "      <th>CryoSleep</th>\n",
       "      <th>Cabin</th>\n",
       "      <th>Destination</th>\n",
       "      <th>Age</th>\n",
       "      <th>VIP</th>\n",
       "      <th>RoomService</th>\n",
       "      <th>FoodCourt</th>\n",
       "      <th>ShoppingMall</th>\n",
       "      <th>Spa</th>\n",
       "      <th>VRDeck</th>\n",
       "      <th>Name</th>\n",
       "    </tr>\n",
       "  </thead>\n",
       "  <tbody>\n",
       "    <tr>\n",
       "      <th>0</th>\n",
       "      <td>0013_01</td>\n",
       "      <td>Earth</td>\n",
       "      <td>True</td>\n",
       "      <td>G/3/S</td>\n",
       "      <td>TRAPPIST-1e</td>\n",
       "      <td>27.0</td>\n",
       "      <td>False</td>\n",
       "      <td>0.0</td>\n",
       "      <td>0.0</td>\n",
       "      <td>0.0</td>\n",
       "      <td>0.0</td>\n",
       "      <td>0.0</td>\n",
       "      <td>Nelly Carsoning</td>\n",
       "    </tr>\n",
       "    <tr>\n",
       "      <th>1</th>\n",
       "      <td>0018_01</td>\n",
       "      <td>Earth</td>\n",
       "      <td>False</td>\n",
       "      <td>F/4/S</td>\n",
       "      <td>TRAPPIST-1e</td>\n",
       "      <td>19.0</td>\n",
       "      <td>False</td>\n",
       "      <td>0.0</td>\n",
       "      <td>9.0</td>\n",
       "      <td>0.0</td>\n",
       "      <td>2823.0</td>\n",
       "      <td>0.0</td>\n",
       "      <td>Lerome Peckers</td>\n",
       "    </tr>\n",
       "    <tr>\n",
       "      <th>2</th>\n",
       "      <td>0019_01</td>\n",
       "      <td>Europa</td>\n",
       "      <td>True</td>\n",
       "      <td>C/0/S</td>\n",
       "      <td>55 Cancri e</td>\n",
       "      <td>31.0</td>\n",
       "      <td>False</td>\n",
       "      <td>0.0</td>\n",
       "      <td>0.0</td>\n",
       "      <td>0.0</td>\n",
       "      <td>0.0</td>\n",
       "      <td>0.0</td>\n",
       "      <td>Sabih Unhearfus</td>\n",
       "    </tr>\n",
       "    <tr>\n",
       "      <th>3</th>\n",
       "      <td>0021_01</td>\n",
       "      <td>Europa</td>\n",
       "      <td>False</td>\n",
       "      <td>C/1/S</td>\n",
       "      <td>TRAPPIST-1e</td>\n",
       "      <td>38.0</td>\n",
       "      <td>False</td>\n",
       "      <td>0.0</td>\n",
       "      <td>6652.0</td>\n",
       "      <td>0.0</td>\n",
       "      <td>181.0</td>\n",
       "      <td>585.0</td>\n",
       "      <td>Meratz Caltilter</td>\n",
       "    </tr>\n",
       "    <tr>\n",
       "      <th>4</th>\n",
       "      <td>0023_01</td>\n",
       "      <td>Earth</td>\n",
       "      <td>False</td>\n",
       "      <td>F/5/S</td>\n",
       "      <td>TRAPPIST-1e</td>\n",
       "      <td>20.0</td>\n",
       "      <td>False</td>\n",
       "      <td>10.0</td>\n",
       "      <td>0.0</td>\n",
       "      <td>635.0</td>\n",
       "      <td>0.0</td>\n",
       "      <td>0.0</td>\n",
       "      <td>Brence Harperez</td>\n",
       "    </tr>\n",
       "  </tbody>\n",
       "</table>\n",
       "</div>"
      ],
      "text/plain": [
       "  PassengerId HomePlanet CryoSleep  Cabin  Destination   Age    VIP  \\\n",
       "0     0013_01      Earth      True  G/3/S  TRAPPIST-1e  27.0  False   \n",
       "1     0018_01      Earth     False  F/4/S  TRAPPIST-1e  19.0  False   \n",
       "2     0019_01     Europa      True  C/0/S  55 Cancri e  31.0  False   \n",
       "3     0021_01     Europa     False  C/1/S  TRAPPIST-1e  38.0  False   \n",
       "4     0023_01      Earth     False  F/5/S  TRAPPIST-1e  20.0  False   \n",
       "\n",
       "   RoomService  FoodCourt  ShoppingMall     Spa  VRDeck              Name  \n",
       "0          0.0        0.0           0.0     0.0     0.0   Nelly Carsoning  \n",
       "1          0.0        9.0           0.0  2823.0     0.0    Lerome Peckers  \n",
       "2          0.0        0.0           0.0     0.0     0.0   Sabih Unhearfus  \n",
       "3          0.0     6652.0           0.0   181.0   585.0  Meratz Caltilter  \n",
       "4         10.0        0.0         635.0     0.0     0.0   Brence Harperez  "
      ]
     },
     "execution_count": 407,
     "metadata": {},
     "output_type": "execute_result"
    }
   ],
   "source": [
    "test_data.head()"
   ]
  },
  {
   "cell_type": "code",
   "execution_count": 408,
   "id": "32794593",
   "metadata": {
    "execution": {
     "iopub.execute_input": "2022-04-06T11:13:19.408387Z",
     "iopub.status.busy": "2022-04-06T11:13:19.407758Z",
     "iopub.status.idle": "2022-04-06T11:13:19.411101Z",
     "shell.execute_reply": "2022-04-06T11:13:19.411557Z",
     "shell.execute_reply.started": "2022-04-06T11:12:35.218781Z"
    },
    "papermill": {
     "duration": 0.045102,
     "end_time": "2022-04-06T11:13:19.411727",
     "exception": false,
     "start_time": "2022-04-06T11:13:19.366625",
     "status": "completed"
    },
    "tags": []
   },
   "outputs": [],
   "source": [
    "# features = train_data.columns.tolist()\n",
    "# X = train_data[features]\n",
    "# y = train_data[features[:-1]]"
   ]
  },
  {
   "cell_type": "code",
   "execution_count": 409,
   "id": "474f0d41",
   "metadata": {
    "execution": {
     "iopub.execute_input": "2022-04-06T11:13:19.490240Z",
     "iopub.status.busy": "2022-04-06T11:13:19.489244Z",
     "iopub.status.idle": "2022-04-06T11:13:19.511665Z",
     "shell.execute_reply": "2022-04-06T11:13:19.512161Z",
     "shell.execute_reply.started": "2022-04-06T11:12:35.404070Z"
    },
    "papermill": {
     "duration": 0.063469,
     "end_time": "2022-04-06T11:13:19.512341",
     "exception": false,
     "start_time": "2022-04-06T11:13:19.448872",
     "status": "completed"
    },
    "tags": []
   },
   "outputs": [
    {
     "name": "stdout",
     "output_type": "stream",
     "text": [
      "Number of NaN rows removed is:  2087\n"
     ]
    }
   ],
   "source": [
    "train_shape = train_data.shape[0]\n",
    "train_data.dropna(inplace=True, axis=0)\n",
    "print('Number of NaN rows removed is: ', train_shape - train_data.shape[0])"
   ]
  },
  {
   "cell_type": "code",
   "execution_count": 410,
   "id": "8256e977",
   "metadata": {
    "execution": {
     "iopub.execute_input": "2022-04-06T11:13:19.600074Z",
     "iopub.status.busy": "2022-04-06T11:13:19.599257Z",
     "iopub.status.idle": "2022-04-06T11:13:19.604816Z",
     "shell.execute_reply": "2022-04-06T11:13:19.605336Z",
     "shell.execute_reply.started": "2022-04-06T11:12:35.516565Z"
    },
    "papermill": {
     "duration": 0.054573,
     "end_time": "2022-04-06T11:13:19.605519",
     "exception": false,
     "start_time": "2022-04-06T11:13:19.550946",
     "status": "completed"
    },
    "tags": []
   },
   "outputs": [
    {
     "name": "stdout",
     "output_type": "stream",
     "text": [
      "Number of NaN rows removed is:  996\n"
     ]
    }
   ],
   "source": [
    "test_shape = test_data.shape[0]\n",
    "test_data.dropna(inplace=True, axis=0)\n",
    "print('Number of NaN rows removed is: ', test_shape - test_data.shape[0])"
   ]
  },
  {
   "cell_type": "code",
   "execution_count": 411,
   "id": "f3e5b7b0",
   "metadata": {
    "execution": {
     "iopub.execute_input": "2022-04-06T11:13:19.687014Z",
     "iopub.status.busy": "2022-04-06T11:13:19.686372Z",
     "iopub.status.idle": "2022-04-06T11:13:19.696361Z",
     "shell.execute_reply": "2022-04-06T11:13:19.696869Z",
     "shell.execute_reply.started": "2022-04-06T11:12:35.649829Z"
    },
    "papermill": {
     "duration": 0.053419,
     "end_time": "2022-04-06T11:13:19.697047",
     "exception": false,
     "start_time": "2022-04-06T11:13:19.643628",
     "status": "completed"
    },
    "tags": []
   },
   "outputs": [
    {
     "data": {
      "text/plain": [
       "['PassengerId',\n",
       " 'HomePlanet',\n",
       " 'CryoSleep',\n",
       " 'Cabin',\n",
       " 'Destination',\n",
       " 'VIP',\n",
       " 'Name',\n",
       " 'Transported']"
      ]
     },
     "execution_count": 411,
     "metadata": {},
     "output_type": "execute_result"
    }
   ],
   "source": [
    "cols_obj_bool = list(train_data.select_dtypes(include=[object, bool]))\n",
    "cols_obj_bool"
   ]
  },
  {
   "cell_type": "code",
   "execution_count": 412,
   "id": "4d0d50ac",
   "metadata": {
    "execution": {
     "iopub.execute_input": "2022-04-06T11:13:19.796825Z",
     "iopub.status.busy": "2022-04-06T11:13:19.789565Z",
     "iopub.status.idle": "2022-04-06T11:13:19.799847Z",
     "shell.execute_reply": "2022-04-06T11:13:19.800321Z",
     "shell.execute_reply.started": "2022-04-06T11:12:35.793871Z"
    },
    "papermill": {
     "duration": 0.06412,
     "end_time": "2022-04-06T11:13:19.800518",
     "exception": false,
     "start_time": "2022-04-06T11:13:19.736398",
     "status": "completed"
    },
    "tags": []
   },
   "outputs": [
    {
     "data": {
      "text/html": [
       "<div>\n",
       "<style scoped>\n",
       "    .dataframe tbody tr th:only-of-type {\n",
       "        vertical-align: middle;\n",
       "    }\n",
       "\n",
       "    .dataframe tbody tr th {\n",
       "        vertical-align: top;\n",
       "    }\n",
       "\n",
       "    .dataframe thead th {\n",
       "        text-align: right;\n",
       "    }\n",
       "</style>\n",
       "<table border=\"1\" class=\"dataframe\">\n",
       "  <thead>\n",
       "    <tr style=\"text-align: right;\">\n",
       "      <th></th>\n",
       "      <th>PassengerId</th>\n",
       "      <th>HomePlanet</th>\n",
       "      <th>CryoSleep</th>\n",
       "      <th>Cabin</th>\n",
       "      <th>Destination</th>\n",
       "      <th>Age</th>\n",
       "      <th>VIP</th>\n",
       "      <th>RoomService</th>\n",
       "      <th>FoodCourt</th>\n",
       "      <th>ShoppingMall</th>\n",
       "      <th>Spa</th>\n",
       "      <th>VRDeck</th>\n",
       "      <th>Name</th>\n",
       "      <th>Transported</th>\n",
       "    </tr>\n",
       "  </thead>\n",
       "  <tbody>\n",
       "    <tr>\n",
       "      <th>0</th>\n",
       "      <td>0001_01</td>\n",
       "      <td>Europa</td>\n",
       "      <td>False</td>\n",
       "      <td>B/0/P</td>\n",
       "      <td>TRAPPIST-1e</td>\n",
       "      <td>39.0</td>\n",
       "      <td>False</td>\n",
       "      <td>0.0</td>\n",
       "      <td>0.0</td>\n",
       "      <td>0.0</td>\n",
       "      <td>0.0</td>\n",
       "      <td>0.0</td>\n",
       "      <td>Maham Ofracculy</td>\n",
       "      <td>False</td>\n",
       "    </tr>\n",
       "    <tr>\n",
       "      <th>1</th>\n",
       "      <td>0002_01</td>\n",
       "      <td>Earth</td>\n",
       "      <td>False</td>\n",
       "      <td>F/0/S</td>\n",
       "      <td>TRAPPIST-1e</td>\n",
       "      <td>24.0</td>\n",
       "      <td>False</td>\n",
       "      <td>109.0</td>\n",
       "      <td>9.0</td>\n",
       "      <td>25.0</td>\n",
       "      <td>549.0</td>\n",
       "      <td>44.0</td>\n",
       "      <td>Juanna Vines</td>\n",
       "      <td>True</td>\n",
       "    </tr>\n",
       "    <tr>\n",
       "      <th>2</th>\n",
       "      <td>0003_01</td>\n",
       "      <td>Europa</td>\n",
       "      <td>False</td>\n",
       "      <td>A/0/S</td>\n",
       "      <td>TRAPPIST-1e</td>\n",
       "      <td>58.0</td>\n",
       "      <td>True</td>\n",
       "      <td>43.0</td>\n",
       "      <td>3576.0</td>\n",
       "      <td>0.0</td>\n",
       "      <td>6715.0</td>\n",
       "      <td>49.0</td>\n",
       "      <td>Altark Susent</td>\n",
       "      <td>False</td>\n",
       "    </tr>\n",
       "    <tr>\n",
       "      <th>3</th>\n",
       "      <td>0003_02</td>\n",
       "      <td>Europa</td>\n",
       "      <td>False</td>\n",
       "      <td>A/0/S</td>\n",
       "      <td>TRAPPIST-1e</td>\n",
       "      <td>33.0</td>\n",
       "      <td>False</td>\n",
       "      <td>0.0</td>\n",
       "      <td>1283.0</td>\n",
       "      <td>371.0</td>\n",
       "      <td>3329.0</td>\n",
       "      <td>193.0</td>\n",
       "      <td>Solam Susent</td>\n",
       "      <td>False</td>\n",
       "    </tr>\n",
       "    <tr>\n",
       "      <th>4</th>\n",
       "      <td>0004_01</td>\n",
       "      <td>Earth</td>\n",
       "      <td>False</td>\n",
       "      <td>F/1/S</td>\n",
       "      <td>TRAPPIST-1e</td>\n",
       "      <td>16.0</td>\n",
       "      <td>False</td>\n",
       "      <td>303.0</td>\n",
       "      <td>70.0</td>\n",
       "      <td>151.0</td>\n",
       "      <td>565.0</td>\n",
       "      <td>2.0</td>\n",
       "      <td>Willy Santantines</td>\n",
       "      <td>True</td>\n",
       "    </tr>\n",
       "  </tbody>\n",
       "</table>\n",
       "</div>"
      ],
      "text/plain": [
       "  PassengerId HomePlanet CryoSleep  Cabin  Destination   Age    VIP  \\\n",
       "0     0001_01     Europa     False  B/0/P  TRAPPIST-1e  39.0  False   \n",
       "1     0002_01      Earth     False  F/0/S  TRAPPIST-1e  24.0  False   \n",
       "2     0003_01     Europa     False  A/0/S  TRAPPIST-1e  58.0   True   \n",
       "3     0003_02     Europa     False  A/0/S  TRAPPIST-1e  33.0  False   \n",
       "4     0004_01      Earth     False  F/1/S  TRAPPIST-1e  16.0  False   \n",
       "\n",
       "   RoomService  FoodCourt  ShoppingMall     Spa  VRDeck               Name  \\\n",
       "0          0.0        0.0           0.0     0.0     0.0    Maham Ofracculy   \n",
       "1        109.0        9.0          25.0   549.0    44.0       Juanna Vines   \n",
       "2         43.0     3576.0           0.0  6715.0    49.0      Altark Susent   \n",
       "3          0.0     1283.0         371.0  3329.0   193.0       Solam Susent   \n",
       "4        303.0       70.0         151.0   565.0     2.0  Willy Santantines   \n",
       "\n",
       "   Transported  \n",
       "0        False  \n",
       "1         True  \n",
       "2        False  \n",
       "3        False  \n",
       "4         True  "
      ]
     },
     "execution_count": 412,
     "metadata": {},
     "output_type": "execute_result"
    }
   ],
   "source": [
    "train_data.head()"
   ]
  },
  {
   "cell_type": "code",
   "execution_count": 413,
   "id": "35a9ed51",
   "metadata": {
    "execution": {
     "iopub.execute_input": "2022-04-06T11:13:19.902063Z",
     "iopub.status.busy": "2022-04-06T11:13:19.897811Z",
     "iopub.status.idle": "2022-04-06T11:13:19.912106Z",
     "shell.execute_reply": "2022-04-06T11:13:19.911575Z",
     "shell.execute_reply.started": "2022-04-06T11:12:35.972831Z"
    },
    "papermill": {
     "duration": 0.072877,
     "end_time": "2022-04-06T11:13:19.912252",
     "exception": false,
     "start_time": "2022-04-06T11:13:19.839375",
     "status": "completed"
    },
    "tags": []
   },
   "outputs": [],
   "source": [
    "train_data[['Deck', 'DeckNum', 'Side']] = train_data['Cabin'].str.split('/', expand=True)\n",
    "test_data[['Deck', 'DeckNum', 'Side']] = test_data['Cabin'].str.split('/', expand=True)"
   ]
  },
  {
   "cell_type": "code",
   "execution_count": 414,
   "id": "8e9c347e",
   "metadata": {
    "execution": {
     "iopub.execute_input": "2022-04-06T11:13:19.997273Z",
     "iopub.status.busy": "2022-04-06T11:13:19.996571Z",
     "iopub.status.idle": "2022-04-06T11:13:20.020528Z",
     "shell.execute_reply": "2022-04-06T11:13:20.021090Z",
     "shell.execute_reply.started": "2022-04-06T11:12:36.097204Z"
    },
    "papermill": {
     "duration": 0.069863,
     "end_time": "2022-04-06T11:13:20.021265",
     "exception": false,
     "start_time": "2022-04-06T11:13:19.951402",
     "status": "completed"
    },
    "tags": []
   },
   "outputs": [
    {
     "name": "stdout",
     "output_type": "stream",
     "text": [
      "Column \"HomePlanet\" has the following unique values: ['Earth', 'Europa', 'Mars']\n",
      "Column \"HomePlanet\" has the following unique values: ['A', 'B', 'C', 'D', 'E', 'F', 'G', 'T']\n",
      "Column \"HomePlanet\" has the following unique values: ['P', 'S']\n",
      "Column \"HomePlanet\" has the following unique values: ['55 Cancri e', 'PSO J318.5-22', 'TRAPPIST-1e']\n"
     ]
    }
   ],
   "source": [
    "cols = ['HomePlanet', 'Deck', 'Side', 'Destination']\n",
    "\n",
    "for col in cols:\n",
    "    col_name = np.unique(train_data[col]).tolist()\n",
    "    print(f'Column \"HomePlanet\" has the following unique values: {col_name}')"
   ]
  },
  {
   "cell_type": "code",
   "execution_count": 415,
   "id": "4f5029ce",
   "metadata": {
    "execution": {
     "iopub.execute_input": "2022-04-06T11:13:20.106059Z",
     "iopub.status.busy": "2022-04-06T11:13:20.103220Z",
     "iopub.status.idle": "2022-04-06T11:13:20.119940Z",
     "shell.execute_reply": "2022-04-06T11:13:20.120504Z",
     "shell.execute_reply.started": "2022-04-06T11:12:36.246221Z"
    },
    "papermill": {
     "duration": 0.059815,
     "end_time": "2022-04-06T11:13:20.120680",
     "exception": false,
     "start_time": "2022-04-06T11:13:20.060865",
     "status": "completed"
    },
    "tags": []
   },
   "outputs": [
    {
     "name": "stdout",
     "output_type": "stream",
     "text": [
      "Column \"HomePlanet\" has the following unique values: ['Earth', 'Europa', 'Mars']\n",
      "Column \"HomePlanet\" has the following unique values: ['A', 'B', 'C', 'D', 'E', 'F', 'G', 'T']\n",
      "Column \"HomePlanet\" has the following unique values: ['P', 'S']\n",
      "Column \"HomePlanet\" has the following unique values: ['55 Cancri e', 'PSO J318.5-22', 'TRAPPIST-1e']\n"
     ]
    }
   ],
   "source": [
    "cols = ['HomePlanet', 'Deck', 'Side', 'Destination']\n",
    "\n",
    "for col in cols:\n",
    "    col_name = np.unique(test_data[col]).tolist()\n",
    "    print(f'Column \"HomePlanet\" has the following unique values: {col_name}')"
   ]
  },
  {
   "cell_type": "code",
   "execution_count": 416,
   "id": "3c2f652b",
   "metadata": {
    "execution": {
     "iopub.execute_input": "2022-04-06T11:13:20.207533Z",
     "iopub.status.busy": "2022-04-06T11:13:20.206619Z",
     "iopub.status.idle": "2022-04-06T11:13:20.211527Z",
     "shell.execute_reply": "2022-04-06T11:13:20.212017Z",
     "shell.execute_reply.started": "2022-04-06T11:12:36.471353Z"
    },
    "papermill": {
     "duration": 0.051346,
     "end_time": "2022-04-06T11:13:20.212209",
     "exception": false,
     "start_time": "2022-04-06T11:13:20.160863",
     "status": "completed"
    },
    "tags": []
   },
   "outputs": [],
   "source": [
    "bool_cols = ['CryoSleep','VIP','Transported']\n",
    "for col in bool_cols:\n",
    "    train_data[col] = pd.Series(np.where(train_data[col].values == True, 1, 0), train_data.index)"
   ]
  },
  {
   "cell_type": "code",
   "execution_count": 417,
   "id": "dd555f94",
   "metadata": {
    "execution": {
     "iopub.execute_input": "2022-04-06T11:13:20.300525Z",
     "iopub.status.busy": "2022-04-06T11:13:20.299850Z",
     "iopub.status.idle": "2022-04-06T11:13:20.302883Z",
     "shell.execute_reply": "2022-04-06T11:13:20.302351Z",
     "shell.execute_reply.started": "2022-04-06T11:12:36.543547Z"
    },
    "papermill": {
     "duration": 0.050372,
     "end_time": "2022-04-06T11:13:20.303017",
     "exception": false,
     "start_time": "2022-04-06T11:13:20.252645",
     "status": "completed"
    },
    "tags": []
   },
   "outputs": [],
   "source": [
    "bool_cols = ['CryoSleep','VIP']\n",
    "for col in bool_cols:\n",
    "    test_data[col] = pd.Series(np.where(test_data[col].values == True, 1, 0), test_data.index)"
   ]
  },
  {
   "cell_type": "code",
   "execution_count": 418,
   "id": "57002db7",
   "metadata": {
    "execution": {
     "iopub.execute_input": "2022-04-06T11:13:20.387501Z",
     "iopub.status.busy": "2022-04-06T11:13:20.386843Z",
     "iopub.status.idle": "2022-04-06T11:13:20.400289Z",
     "shell.execute_reply": "2022-04-06T11:13:20.399741Z",
     "shell.execute_reply.started": "2022-04-06T11:12:36.684418Z"
    },
    "papermill": {
     "duration": 0.057457,
     "end_time": "2022-04-06T11:13:20.400449",
     "exception": false,
     "start_time": "2022-04-06T11:13:20.342992",
     "status": "completed"
    },
    "tags": []
   },
   "outputs": [],
   "source": [
    "train_data['BilledAmeni'] = train_data['RoomService'] + train_data['FoodCourt'] +\\\n",
    "train_data['ShoppingMall'] + train_data['Spa'] + train_data['VRDeck']\n",
    "train_data.drop(['RoomService', 'FoodCourt', 'ShoppingMall', 'Spa', 'VRDeck', 'Cabin', 'Name'],\n",
    "       inplace=True, axis=1)\n",
    "train_data['Side'] = pd.Series(np.where(train_data['Side'].values == 'S', 1, 0), train_data.index)\n"
   ]
  },
  {
   "cell_type": "code",
   "execution_count": 419,
   "id": "eda87cf5",
   "metadata": {
    "execution": {
     "iopub.execute_input": "2022-04-06T11:13:20.483640Z",
     "iopub.status.busy": "2022-04-06T11:13:20.482949Z",
     "iopub.status.idle": "2022-04-06T11:13:20.493017Z",
     "shell.execute_reply": "2022-04-06T11:13:20.493603Z",
     "shell.execute_reply.started": "2022-04-06T11:12:36.871968Z"
    },
    "papermill": {
     "duration": 0.053045,
     "end_time": "2022-04-06T11:13:20.493796",
     "exception": false,
     "start_time": "2022-04-06T11:13:20.440751",
     "status": "completed"
    },
    "tags": []
   },
   "outputs": [],
   "source": [
    "test_data['BilledAmeni'] = test_data['RoomService'] + test_data['FoodCourt'] +\\\n",
    "test_data['ShoppingMall'] + test_data['Spa'] + test_data['VRDeck']\n",
    "test_data.drop(['RoomService', 'FoodCourt', 'ShoppingMall', 'Spa', 'VRDeck', 'Cabin', 'Name'],\n",
    "       inplace=True, axis=1)\n",
    "test_data['Side'] = pd.Series(np.where(test_data['Side'].values == 'S', 1, 0), test_data.index)\n"
   ]
  },
  {
   "cell_type": "code",
   "execution_count": 420,
   "id": "cbdeb10b",
   "metadata": {
    "execution": {
     "iopub.execute_input": "2022-04-06T11:13:20.577106Z",
     "iopub.status.busy": "2022-04-06T11:13:20.576475Z",
     "iopub.status.idle": "2022-04-06T11:13:20.587764Z",
     "shell.execute_reply": "2022-04-06T11:13:20.588334Z",
     "shell.execute_reply.started": "2022-04-06T11:12:37.005136Z"
    },
    "papermill": {
     "duration": 0.054695,
     "end_time": "2022-04-06T11:13:20.588537",
     "exception": false,
     "start_time": "2022-04-06T11:13:20.533842",
     "status": "completed"
    },
    "tags": []
   },
   "outputs": [],
   "source": [
    "mapping = {'Earth': 1, 'Mars': 2, 'Europa': 3}\n",
    "train_data.replace({'HomePlanet': mapping}, inplace=True)"
   ]
  },
  {
   "cell_type": "code",
   "execution_count": 421,
   "id": "45cf841b",
   "metadata": {
    "execution": {
     "iopub.execute_input": "2022-04-06T11:13:20.671600Z",
     "iopub.status.busy": "2022-04-06T11:13:20.670918Z",
     "iopub.status.idle": "2022-04-06T11:13:20.679154Z",
     "shell.execute_reply": "2022-04-06T11:13:20.679720Z",
     "shell.execute_reply.started": "2022-04-06T11:12:37.127178Z"
    },
    "papermill": {
     "duration": 0.051191,
     "end_time": "2022-04-06T11:13:20.679895",
     "exception": false,
     "start_time": "2022-04-06T11:13:20.628704",
     "status": "completed"
    },
    "tags": []
   },
   "outputs": [],
   "source": [
    "mapping = {'Earth': 1, 'Mars': 2, 'Europa': 3}\n",
    "test_data.replace({'HomePlanet': mapping}, inplace=True)"
   ]
  },
  {
   "cell_type": "code",
   "execution_count": 422,
   "id": "83a48e05",
   "metadata": {
    "execution": {
     "iopub.execute_input": "2022-04-06T11:13:20.764491Z",
     "iopub.status.busy": "2022-04-06T11:13:20.763761Z",
     "iopub.status.idle": "2022-04-06T11:13:20.777079Z",
     "shell.execute_reply": "2022-04-06T11:13:20.777702Z",
     "shell.execute_reply.started": "2022-04-06T11:12:37.438847Z"
    },
    "papermill": {
     "duration": 0.056842,
     "end_time": "2022-04-06T11:13:20.777887",
     "exception": false,
     "start_time": "2022-04-06T11:13:20.721045",
     "status": "completed"
    },
    "tags": []
   },
   "outputs": [],
   "source": [
    "mapping = {'A' : 1, 'B' : 2, 'C' : 3, 'D' : 4, 'E' : 5, 'F' : 6, 'G' : 7, 'T' : 8}\n",
    "train_data.replace({'Deck': mapping}, inplace=True)"
   ]
  },
  {
   "cell_type": "code",
   "execution_count": 423,
   "id": "69d2f288",
   "metadata": {
    "execution": {
     "iopub.execute_input": "2022-04-06T11:13:20.860737Z",
     "iopub.status.busy": "2022-04-06T11:13:20.860106Z",
     "iopub.status.idle": "2022-04-06T11:13:20.870342Z",
     "shell.execute_reply": "2022-04-06T11:13:20.870897Z",
     "shell.execute_reply.started": "2022-04-06T11:12:37.734988Z"
    },
    "papermill": {
     "duration": 0.053262,
     "end_time": "2022-04-06T11:13:20.871077",
     "exception": false,
     "start_time": "2022-04-06T11:13:20.817815",
     "status": "completed"
    },
    "tags": []
   },
   "outputs": [],
   "source": [
    "mapping = {'A' : 1, 'B' : 2, 'C' : 3, 'D' : 4, 'E' : 5, 'F' : 6, 'G' : 7, 'T' : 8}\n",
    "test_data.replace({'Deck': mapping}, inplace=True)"
   ]
  },
  {
   "cell_type": "code",
   "execution_count": 424,
   "id": "487d2685",
   "metadata": {
    "execution": {
     "iopub.execute_input": "2022-04-06T11:13:20.956126Z",
     "iopub.status.busy": "2022-04-06T11:13:20.954115Z",
     "iopub.status.idle": "2022-04-06T11:13:20.964997Z",
     "shell.execute_reply": "2022-04-06T11:13:20.965484Z",
     "shell.execute_reply.started": "2022-04-06T11:12:38.063441Z"
    },
    "papermill": {
     "duration": 0.05391,
     "end_time": "2022-04-06T11:13:20.965668",
     "exception": false,
     "start_time": "2022-04-06T11:13:20.911758",
     "status": "completed"
    },
    "tags": []
   },
   "outputs": [],
   "source": [
    "mapping = {'55 Cancri e': 1, 'PSO J318.5-22': 2, 'TRAPPIST-1e': 3}\n",
    "train_data.replace({'Destination': mapping}, inplace=True)"
   ]
  },
  {
   "cell_type": "code",
   "execution_count": 425,
   "id": "e84b934b",
   "metadata": {
    "execution": {
     "iopub.execute_input": "2022-04-06T11:13:21.050950Z",
     "iopub.status.busy": "2022-04-06T11:13:21.049996Z",
     "iopub.status.idle": "2022-04-06T11:13:21.057681Z",
     "shell.execute_reply": "2022-04-06T11:13:21.057122Z",
     "shell.execute_reply.started": "2022-04-06T11:12:38.274758Z"
    },
    "papermill": {
     "duration": 0.052287,
     "end_time": "2022-04-06T11:13:21.057836",
     "exception": false,
     "start_time": "2022-04-06T11:13:21.005549",
     "status": "completed"
    },
    "tags": []
   },
   "outputs": [],
   "source": [
    "mapping = {'55 Cancri e': 1, 'PSO J318.5-22': 2, 'TRAPPIST-1e': 3}\n",
    "test_data.replace({'Destination': mapping}, inplace=True)"
   ]
  },
  {
   "cell_type": "code",
   "execution_count": 426,
   "id": "5867bb89",
   "metadata": {
    "execution": {
     "iopub.execute_input": "2022-04-06T11:13:21.141224Z",
     "iopub.status.busy": "2022-04-06T11:13:21.140548Z",
     "iopub.status.idle": "2022-04-06T11:13:21.161100Z",
     "shell.execute_reply": "2022-04-06T11:13:21.160524Z",
     "shell.execute_reply.started": "2022-04-06T11:12:38.486541Z"
    },
    "papermill": {
     "duration": 0.06349,
     "end_time": "2022-04-06T11:13:21.161242",
     "exception": false,
     "start_time": "2022-04-06T11:13:21.097752",
     "status": "completed"
    },
    "tags": []
   },
   "outputs": [
    {
     "name": "stdout",
     "output_type": "stream",
     "text": [
      "Features:\n",
      " ['PassengerId', 'HomePlanet', 'CryoSleep', 'Destination', 'Age', 'VIP', 'Transported', 'Deck', 'DeckNum', 'Side', 'BilledAmeni']\n",
      "\n",
      "Sorted Features:\n",
      " ['PassengerId', 'HomePlanet', 'CryoSleep', 'Destination', 'Age', 'VIP', 'Deck', 'DeckNum', 'Side', 'BilledAmeni', 'Transported']\n",
      "\n"
     ]
    },
    {
     "data": {
      "text/html": [
       "<div>\n",
       "<style scoped>\n",
       "    .dataframe tbody tr th:only-of-type {\n",
       "        vertical-align: middle;\n",
       "    }\n",
       "\n",
       "    .dataframe tbody tr th {\n",
       "        vertical-align: top;\n",
       "    }\n",
       "\n",
       "    .dataframe thead th {\n",
       "        text-align: right;\n",
       "    }\n",
       "</style>\n",
       "<table border=\"1\" class=\"dataframe\">\n",
       "  <thead>\n",
       "    <tr style=\"text-align: right;\">\n",
       "      <th></th>\n",
       "      <th>PassengerId</th>\n",
       "      <th>HomePlanet</th>\n",
       "      <th>CryoSleep</th>\n",
       "      <th>Destination</th>\n",
       "      <th>Age</th>\n",
       "      <th>VIP</th>\n",
       "      <th>Deck</th>\n",
       "      <th>DeckNum</th>\n",
       "      <th>Side</th>\n",
       "      <th>BilledAmeni</th>\n",
       "      <th>Transported</th>\n",
       "    </tr>\n",
       "  </thead>\n",
       "  <tbody>\n",
       "    <tr>\n",
       "      <th>0</th>\n",
       "      <td>0001_01</td>\n",
       "      <td>3</td>\n",
       "      <td>0</td>\n",
       "      <td>3</td>\n",
       "      <td>39.0</td>\n",
       "      <td>0</td>\n",
       "      <td>2</td>\n",
       "      <td>0</td>\n",
       "      <td>0</td>\n",
       "      <td>0.0</td>\n",
       "      <td>0</td>\n",
       "    </tr>\n",
       "    <tr>\n",
       "      <th>1</th>\n",
       "      <td>0002_01</td>\n",
       "      <td>1</td>\n",
       "      <td>0</td>\n",
       "      <td>3</td>\n",
       "      <td>24.0</td>\n",
       "      <td>0</td>\n",
       "      <td>6</td>\n",
       "      <td>0</td>\n",
       "      <td>1</td>\n",
       "      <td>736.0</td>\n",
       "      <td>1</td>\n",
       "    </tr>\n",
       "    <tr>\n",
       "      <th>2</th>\n",
       "      <td>0003_01</td>\n",
       "      <td>3</td>\n",
       "      <td>0</td>\n",
       "      <td>3</td>\n",
       "      <td>58.0</td>\n",
       "      <td>1</td>\n",
       "      <td>1</td>\n",
       "      <td>0</td>\n",
       "      <td>1</td>\n",
       "      <td>10383.0</td>\n",
       "      <td>0</td>\n",
       "    </tr>\n",
       "    <tr>\n",
       "      <th>3</th>\n",
       "      <td>0003_02</td>\n",
       "      <td>3</td>\n",
       "      <td>0</td>\n",
       "      <td>3</td>\n",
       "      <td>33.0</td>\n",
       "      <td>0</td>\n",
       "      <td>1</td>\n",
       "      <td>0</td>\n",
       "      <td>1</td>\n",
       "      <td>5176.0</td>\n",
       "      <td>0</td>\n",
       "    </tr>\n",
       "    <tr>\n",
       "      <th>4</th>\n",
       "      <td>0004_01</td>\n",
       "      <td>1</td>\n",
       "      <td>0</td>\n",
       "      <td>3</td>\n",
       "      <td>16.0</td>\n",
       "      <td>0</td>\n",
       "      <td>6</td>\n",
       "      <td>1</td>\n",
       "      <td>1</td>\n",
       "      <td>1091.0</td>\n",
       "      <td>1</td>\n",
       "    </tr>\n",
       "  </tbody>\n",
       "</table>\n",
       "</div>"
      ],
      "text/plain": [
       "  PassengerId  HomePlanet  CryoSleep  Destination   Age  VIP  Deck DeckNum  \\\n",
       "0     0001_01           3          0            3  39.0    0     2       0   \n",
       "1     0002_01           1          0            3  24.0    0     6       0   \n",
       "2     0003_01           3          0            3  58.0    1     1       0   \n",
       "3     0003_02           3          0            3  33.0    0     1       0   \n",
       "4     0004_01           1          0            3  16.0    0     6       1   \n",
       "\n",
       "   Side  BilledAmeni  Transported  \n",
       "0     0          0.0            0  \n",
       "1     1        736.0            1  \n",
       "2     1      10383.0            0  \n",
       "3     1       5176.0            0  \n",
       "4     1       1091.0            1  "
      ]
     },
     "execution_count": 426,
     "metadata": {},
     "output_type": "execute_result"
    }
   ],
   "source": [
    "cols = train_data.columns.tolist()\n",
    "print('Features:\\n', cols, end='\\n\\n')\n",
    "tr = train_data.columns.get_loc('Transported')\n",
    "cols_sorted = cols[:tr] + cols[tr+1:] + [cols[tr]]\n",
    "print('Sorted Features:\\n', cols_sorted, end='\\n\\n')\n",
    "train_data = train_data[cols_sorted]\n",
    "train_data.head()"
   ]
  },
  {
   "cell_type": "code",
   "execution_count": 427,
   "id": "59ee9436",
   "metadata": {
    "execution": {
     "iopub.execute_input": "2022-04-06T11:13:21.250390Z",
     "iopub.status.busy": "2022-04-06T11:13:21.249700Z",
     "iopub.status.idle": "2022-04-06T11:13:21.878264Z",
     "shell.execute_reply": "2022-04-06T11:13:21.877686Z",
     "shell.execute_reply.started": "2022-04-06T11:12:38.760387Z"
    },
    "papermill": {
     "duration": 0.676056,
     "end_time": "2022-04-06T11:13:21.878441",
     "exception": false,
     "start_time": "2022-04-06T11:13:21.202385",
     "status": "completed"
    },
    "tags": []
   },
   "outputs": [
    {
     "data": {
      "text/plain": [
       "<AxesSubplot:>"
      ]
     },
     "execution_count": 427,
     "metadata": {},
     "output_type": "execute_result"
    },
    {
     "data": {
      "image/png": "[encoded data removed]",
      "text/plain": [
       "<Figure size 792x648 with 2 Axes>"
      ]
     },
     "metadata": {},
     "output_type": "display_data"
    }
   ],
   "source": [
    "corr = train_data.corr()\n",
    "mask = np.triu(np.ones_like(corr, dtype=bool))\n",
    "f, ax = plt.subplots(figsize=(11, 9))\n",
    "cmap = sns.diverging_palette(230, 10, as_cmap=True)\n",
    "\n",
    "sns.heatmap(corr, mask=mask, cmap=cmap, annot=True, annot_kws={\"size\": 10},\n",
    "            vmin=-1, vmax=1, center=0, square=True, linewidths=0.1,\n",
    "            cbar_kws={\"shrink\": .5})"
   ]
  },
  {
   "cell_type": "code",
   "execution_count": null,
   "id": "fee31676",
   "metadata": {
    "papermill": {
     "duration": 0.042884,
     "end_time": "2022-04-06T11:13:21.965666",
     "exception": false,
     "start_time": "2022-04-06T11:13:21.922782",
     "status": "completed"
    },
    "tags": []
   },
   "outputs": [],
   "source": []
  },
  {
   "cell_type": "code",
   "execution_count": 428,
   "id": "085143ba",
   "metadata": {
    "execution": {
     "iopub.execute_input": "2022-04-06T11:13:22.059475Z",
     "iopub.status.busy": "2022-04-06T11:13:22.055927Z",
     "iopub.status.idle": "2022-04-06T11:13:22.062977Z",
     "shell.execute_reply": "2022-04-06T11:13:22.062264Z",
     "shell.execute_reply.started": "2022-04-06T11:12:39.355276Z"
    },
    "papermill": {
     "duration": 0.054389,
     "end_time": "2022-04-06T11:13:22.063125",
     "exception": false,
     "start_time": "2022-04-06T11:13:22.008736",
     "status": "completed"
    },
    "tags": []
   },
   "outputs": [],
   "source": [
    "X = train_data.iloc[:,:-1]\n",
    "y = train_data.iloc[:,-1]"
   ]
  },
  {
   "cell_type": "code",
   "execution_count": 429,
   "id": "24ac51c2",
   "metadata": {
    "execution": {
     "iopub.execute_input": "2022-04-06T11:13:22.154165Z",
     "iopub.status.busy": "2022-04-06T11:13:22.153556Z",
     "iopub.status.idle": "2022-04-06T11:13:22.952686Z",
     "shell.execute_reply": "2022-04-06T11:13:22.953243Z",
     "shell.execute_reply.started": "2022-04-06T11:12:39.365377Z"
    },
    "papermill": {
     "duration": 0.846328,
     "end_time": "2022-04-06T11:13:22.953424",
     "exception": false,
     "start_time": "2022-04-06T11:13:22.107096",
     "status": "completed"
    },
    "tags": []
   },
   "outputs": [
    {
     "name": "stdout",
     "output_type": "stream",
     "text": [
      "Model Error is: 53.0 %\n"
     ]
    }
   ],
   "source": [
    "pca = PCA(n_components=0.95)\n",
    "scale = StandardScaler()\n",
    "scale.fit(X)\n",
    "X = scale.fit_transform(X)\n",
    "\n",
    "pca.fit(X)\n",
    "X = pca.transform(X)\n",
    "\n",
    "train_X, val_X, train_y, val_y = train_test_split(X, y, test_size=0.25)\n",
    "\n",
    "model = RandomForestClassifier(random_state=1)\n",
    "model.fit(train_X, train_y)\n",
    "pred = model.predict(val_X)\n",
    "rmse = mean_squared_error(pred, val_y, squared=False)\n",
    "\n",
    "print(f'Model Error is: {round(rmse, 2)*100} %')"
   ]
  },
  {
   "cell_type": "code",
   "execution_count": 430,
   "id": "0f5719ee",
   "metadata": {
    "execution": {
     "iopub.execute_input": "2022-04-06T11:13:23.048609Z",
     "iopub.status.busy": "2022-04-06T11:13:23.047933Z",
     "iopub.status.idle": "2022-04-06T11:13:23.131249Z",
     "shell.execute_reply": "2022-04-06T11:13:23.130549Z",
     "shell.execute_reply.started": "2022-04-06T11:12:40.416972Z"
    },
    "papermill": {
     "duration": 0.133906,
     "end_time": "2022-04-06T11:13:23.131389",
     "exception": false,
     "start_time": "2022-04-06T11:13:22.997483",
     "status": "completed"
    },
    "tags": []
   },
   "outputs": [],
   "source": [
    "scale.fit(test_data)\n",
    "test_X=scale.fit_transform(test_data)\n",
    "pca.fit(test_X)\n",
    "test_X = pca.transform(test_X)\n",
    "\n",
    "test_pred = model.predict(test_X)\n",
    "\n",
    "predict_df = pd.DataFrame({'PassengerId': test_data.PassengerId,\n",
    "                           'Transported': test_pred})\n",
    "\n",
    "mapping = {1: 'True', 0: 'False'}\n",
    "predict_df.replace({'Transported': mapping}, inplace=True)\n",
    "\n",
    "predict_df.to_csv('./spaceship-titanic/submission.csv', index=False)"
   ]
  },
  {
   "cell_type": "code",
   "execution_count": 431,
   "id": "9e49c90c",
   "metadata": {
    "execution": {
     "iopub.execute_input": "2022-04-06T11:13:24.112493Z",
     "iopub.status.busy": "2022-04-06T11:13:24.111833Z",
     "iopub.status.idle": "2022-04-06T11:13:24.116175Z",
     "shell.execute_reply": "2022-04-06T11:13:24.115660Z",
     "shell.execute_reply.started": "2022-04-06T11:12:41.328139Z"
    },
    "papermill": {
     "duration": 0.060896,
     "end_time": "2022-04-06T11:13:24.116316",
     "exception": false,
     "start_time": "2022-04-06T11:13:24.055420",
     "status": "completed"
    },
    "tags": []
   },
   "outputs": [
    {
     "data": {
      "text/html": [
       "<div>\n",
       "<style scoped>\n",
       "    .dataframe tbody tr th:only-of-type {\n",
       "        vertical-align: middle;\n",
       "    }\n",
       "\n",
       "    .dataframe tbody tr th {\n",
       "        vertical-align: top;\n",
       "    }\n",
       "\n",
       "    .dataframe thead th {\n",
       "        text-align: right;\n",
       "    }\n",
       "</style>\n",
       "<table border=\"1\" class=\"dataframe\">\n",
       "  <thead>\n",
       "    <tr style=\"text-align: right;\">\n",
       "      <th></th>\n",
       "      <th>PassengerId</th>\n",
       "      <th>Transported</th>\n",
       "    </tr>\n",
       "  </thead>\n",
       "  <tbody>\n",
       "    <tr>\n",
       "      <th>0</th>\n",
       "      <td>0013_01</td>\n",
       "      <td>False</td>\n",
       "    </tr>\n",
       "    <tr>\n",
       "      <th>1</th>\n",
       "      <td>0018_01</td>\n",
       "      <td>False</td>\n",
       "    </tr>\n",
       "    <tr>\n",
       "      <th>2</th>\n",
       "      <td>0019_01</td>\n",
       "      <td>True</td>\n",
       "    </tr>\n",
       "    <tr>\n",
       "      <th>3</th>\n",
       "      <td>0021_01</td>\n",
       "      <td>False</td>\n",
       "    </tr>\n",
       "    <tr>\n",
       "      <th>4</th>\n",
       "      <td>0023_01</td>\n",
       "      <td>False</td>\n",
       "    </tr>\n",
       "    <tr>\n",
       "      <th>...</th>\n",
       "      <td>...</td>\n",
       "      <td>...</td>\n",
       "    </tr>\n",
       "    <tr>\n",
       "      <th>4269</th>\n",
       "      <td>9263_01</td>\n",
       "      <td>False</td>\n",
       "    </tr>\n",
       "    <tr>\n",
       "      <th>4270</th>\n",
       "      <td>9265_01</td>\n",
       "      <td>False</td>\n",
       "    </tr>\n",
       "    <tr>\n",
       "      <th>4271</th>\n",
       "      <td>9266_01</td>\n",
       "      <td>False</td>\n",
       "    </tr>\n",
       "    <tr>\n",
       "      <th>4272</th>\n",
       "      <td>9266_02</td>\n",
       "      <td>False</td>\n",
       "    </tr>\n",
       "    <tr>\n",
       "      <th>4276</th>\n",
       "      <td>9277_01</td>\n",
       "      <td>True</td>\n",
       "    </tr>\n",
       "  </tbody>\n",
       "</table>\n",
       "<p>3281 rows × 2 columns</p>\n",
       "</div>"
      ],
      "text/plain": [
       "     PassengerId Transported\n",
       "0        0013_01       False\n",
       "1        0018_01       False\n",
       "2        0019_01        True\n",
       "3        0021_01       False\n",
       "4        0023_01       False\n",
       "...          ...         ...\n",
       "4269     9263_01       False\n",
       "4270     9265_01       False\n",
       "4271     9266_01       False\n",
       "4272     9266_02       False\n",
       "4276     9277_01        True\n",
       "\n",
       "[3281 rows x 2 columns]"
      ]
     },
     "execution_count": 431,
     "metadata": {},
     "output_type": "execute_result"
    }
   ],
   "source": [
    "predict_df"
   ]
  },
  {
   "cell_type": "code",
   "execution_count": null,
   "id": "63b5fdc0",
   "metadata": {
    "papermill": {
     "duration": 0.043823,
     "end_time": "2022-04-06T11:13:24.205229",
     "exception": false,
     "start_time": "2022-04-06T11:13:24.161406",
     "status": "completed"
    },
    "tags": []
   },
   "outputs": [],
   "source": []
  }
 ],
 "metadata": {
  "kernelspec": {
   "display_name": "Python 3 (ipykernel)",
   "language": "python",
   "name": "python3"
  },
  "language_info": {
   "codemirror_mode": {
    "name": "ipython",
    "version": 3
   },
   "file_extension": ".py",
   "mimetype": "text/x-python",
   "name": "python",
   "nbconvert_exporter": "python",
   "pygments_lexer": "ipython3",
   "version": "3.9.7"
  },
  "papermill": {
   "default_parameters": {},
   "duration": 17.870191,
   "end_time": "2022-04-06T11:13:24.963757",
   "environment_variables": {},
   "exception": null,
   "input_path": "__notebook__.ipynb",
   "output_path": "__notebook__.ipynb",
   "parameters": {},
   "start_time": "2022-04-06T11:13:07.093566",
   "version": "2.3.3"
  }
 },
 "nbformat": 4,
 "nbformat_minor": 5
}
